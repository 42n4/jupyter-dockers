{
 "cells": [
  {
   "cell_type": "code",
   "execution_count": 1,
   "metadata": {},
   "outputs": [],
   "source": [
    "#https://www.nodalpoint.com/spark-data-frames-from-csv-files-handling-headers-column-types/\n",
    "from pyspark import SparkContext\n",
    "from pyspark.sql import SQLContext\n",
    "from pyspark.sql.types import *"
   ]
  },
  {
   "cell_type": "code",
   "execution_count": 2,
   "metadata": {},
   "outputs": [],
   "source": [
    "sc = SparkContext(appName=\"UseParquet\")\n",
    "sqlContext = SQLContext(sc)"
   ]
  },
  {
   "cell_type": "code",
   "execution_count": 3,
   "metadata": {},
   "outputs": [],
   "source": [
    "# Read in the Parquet file created above.\n",
    "# Parquet files are self-describing so the schema is preserved.\n",
    "# The result of loading a parquet file is also a DataFrame.\n",
    "taxiparquet = sqlContext.read.parquet('./yellow_tripdata_2016-06-parquet')"
   ]
  },
  {
   "cell_type": "code",
   "execution_count": 4,
   "metadata": {},
   "outputs": [
    {
     "name": "stdout",
     "output_type": "stream",
     "text": [
      "DataFrame[vendor_id: string, pickup_datetime: timestamp, dropoff_datetime: timestamp, passenger_count: int, trip_distance: float, pickup_longitude: float, pickup_latitude: float, rate_code_id: int, store_and_fwd_flag: string, dropoff_longitude: float, dropoff_latitude: float, payment_type: int, fare_amount: float, extra: float, mta_tax: float, tip_amount: float, tolls_amount: float, improvement_surcharge: float, total_amount: float]\n"
     ]
    }
   ],
   "source": [
    "print(taxiparquet)"
   ]
  },
  {
   "cell_type": "code",
   "execution_count": 5,
   "metadata": {},
   "outputs": [
    {
     "data": {
      "text/html": [
       "<div>\n",
       "<style scoped>\n",
       "    .dataframe tbody tr th:only-of-type {\n",
       "        vertical-align: middle;\n",
       "    }\n",
       "\n",
       "    .dataframe tbody tr th {\n",
       "        vertical-align: top;\n",
       "    }\n",
       "\n",
       "    .dataframe thead th {\n",
       "        text-align: right;\n",
       "    }\n",
       "</style>\n",
       "<table border=\"1\" class=\"dataframe\">\n",
       "  <thead>\n",
       "    <tr style=\"text-align: right;\">\n",
       "      <th></th>\n",
       "      <th>summary</th>\n",
       "      <th>vendor_id</th>\n",
       "      <th>passenger_count</th>\n",
       "      <th>trip_distance</th>\n",
       "      <th>pickup_longitude</th>\n",
       "      <th>pickup_latitude</th>\n",
       "      <th>rate_code_id</th>\n",
       "      <th>store_and_fwd_flag</th>\n",
       "      <th>dropoff_longitude</th>\n",
       "      <th>dropoff_latitude</th>\n",
       "      <th>payment_type</th>\n",
       "      <th>fare_amount</th>\n",
       "      <th>extra</th>\n",
       "      <th>mta_tax</th>\n",
       "      <th>tip_amount</th>\n",
       "      <th>tolls_amount</th>\n",
       "      <th>improvement_surcharge</th>\n",
       "      <th>total_amount</th>\n",
       "    </tr>\n",
       "  </thead>\n",
       "  <tbody>\n",
       "    <tr>\n",
       "      <th>0</th>\n",
       "      <td>count</td>\n",
       "      <td>11135470</td>\n",
       "      <td>11135470</td>\n",
       "      <td>11135470</td>\n",
       "      <td>11135470</td>\n",
       "      <td>11135470</td>\n",
       "      <td>11135470</td>\n",
       "      <td>11135470</td>\n",
       "      <td>11135470</td>\n",
       "      <td>11135470</td>\n",
       "      <td>11135470</td>\n",
       "      <td>11135470</td>\n",
       "      <td>11135470</td>\n",
       "      <td>11135470</td>\n",
       "      <td>11135470</td>\n",
       "      <td>11135470</td>\n",
       "      <td>11135470</td>\n",
       "      <td>11135470</td>\n",
       "    </tr>\n",
       "    <tr>\n",
       "      <th>1</th>\n",
       "      <td>mean</td>\n",
       "      <td>1.53</td>\n",
       "      <td>1.66</td>\n",
       "      <td>3.04</td>\n",
       "      <td>-73.05</td>\n",
       "      <td>40.24</td>\n",
       "      <td>1.04</td>\n",
       "      <td>NaN</td>\n",
       "      <td>-73.12</td>\n",
       "      <td>40.28</td>\n",
       "      <td>1.35</td>\n",
       "      <td>13.51</td>\n",
       "      <td>0.34</td>\n",
       "      <td>0.50</td>\n",
       "      <td>1.84</td>\n",
       "      <td>0.34</td>\n",
       "      <td>0.30</td>\n",
       "      <td>16.83</td>\n",
       "    </tr>\n",
       "    <tr>\n",
       "      <th>2</th>\n",
       "      <td>stddev</td>\n",
       "      <td>0.50</td>\n",
       "      <td>1.30</td>\n",
       "      <td>21.83</td>\n",
       "      <td>8.21</td>\n",
       "      <td>4.52</td>\n",
       "      <td>0.57</td>\n",
       "      <td>NaN</td>\n",
       "      <td>7.88</td>\n",
       "      <td>4.34</td>\n",
       "      <td>0.49</td>\n",
       "      <td>275.54</td>\n",
       "      <td>0.53</td>\n",
       "      <td>0.04</td>\n",
       "      <td>2.71</td>\n",
       "      <td>1.72</td>\n",
       "      <td>0.01</td>\n",
       "      <td>275.86</td>\n",
       "    </tr>\n",
       "    <tr>\n",
       "      <th>3</th>\n",
       "      <td>min</td>\n",
       "      <td>1</td>\n",
       "      <td>0</td>\n",
       "      <td>0.0</td>\n",
       "      <td>-118.18626</td>\n",
       "      <td>0.0</td>\n",
       "      <td>1</td>\n",
       "      <td>N</td>\n",
       "      <td>-118.18626</td>\n",
       "      <td>0.0</td>\n",
       "      <td>1</td>\n",
       "      <td>-450.0</td>\n",
       "      <td>-41.23</td>\n",
       "      <td>-2.7</td>\n",
       "      <td>-67.7</td>\n",
       "      <td>-12.5</td>\n",
       "      <td>-0.3</td>\n",
       "      <td>-450.8</td>\n",
       "    </tr>\n",
       "    <tr>\n",
       "      <th>4</th>\n",
       "      <td>max</td>\n",
       "      <td>2</td>\n",
       "      <td>9</td>\n",
       "      <td>71732.7</td>\n",
       "      <td>0.0</td>\n",
       "      <td>64.09648</td>\n",
       "      <td>99</td>\n",
       "      <td>Y</td>\n",
       "      <td>106.24688</td>\n",
       "      <td>60.040714</td>\n",
       "      <td>5</td>\n",
       "      <td>628544.75</td>\n",
       "      <td>597.92</td>\n",
       "      <td>60.35</td>\n",
       "      <td>854.85</td>\n",
       "      <td>970.0</td>\n",
       "      <td>11.64</td>\n",
       "      <td>629033.75</td>\n",
       "    </tr>\n",
       "  </tbody>\n",
       "</table>\n",
       "</div>"
      ],
      "text/plain": [
       "  summary vendor_id passenger_count trip_distance pickup_longitude  \\\n",
       "0   count  11135470        11135470      11135470         11135470   \n",
       "1    mean      1.53            1.66          3.04           -73.05   \n",
       "2  stddev      0.50            1.30         21.83             8.21   \n",
       "3     min         1               0           0.0       -118.18626   \n",
       "4     max         2               9       71732.7              0.0   \n",
       "\n",
       "  pickup_latitude rate_code_id store_and_fwd_flag dropoff_longitude  \\\n",
       "0        11135470     11135470           11135470          11135470   \n",
       "1           40.24         1.04                NaN            -73.12   \n",
       "2            4.52         0.57                NaN              7.88   \n",
       "3             0.0            1                  N        -118.18626   \n",
       "4        64.09648           99                  Y         106.24688   \n",
       "\n",
       "  dropoff_latitude payment_type fare_amount     extra   mta_tax tip_amount  \\\n",
       "0         11135470     11135470    11135470  11135470  11135470   11135470   \n",
       "1            40.28         1.35       13.51      0.34      0.50       1.84   \n",
       "2             4.34         0.49      275.54      0.53      0.04       2.71   \n",
       "3              0.0            1      -450.0    -41.23      -2.7      -67.7   \n",
       "4        60.040714            5   628544.75    597.92     60.35     854.85   \n",
       "\n",
       "  tolls_amount improvement_surcharge total_amount  \n",
       "0     11135470              11135470     11135470  \n",
       "1         0.34                  0.30        16.83  \n",
       "2         1.72                  0.01       275.86  \n",
       "3        -12.5                  -0.3       -450.8  \n",
       "4        970.0                 11.64    629033.75  "
      ]
     },
     "execution_count": 5,
     "metadata": {},
     "output_type": "execute_result"
    }
   ],
   "source": [
    "def prettySummary(df):\n",
    "    \"\"\" Neat summary statistics of a Spark dataframe\n",
    "    Args:\n",
    "        pyspark.sql.dataframe.DataFrame (df): input dataframe\n",
    "    Returns:\n",
    "        pandas.core.frame.DataFrame: a pandas dataframe with the summary statistics of df\n",
    "    \"\"\"\n",
    "    import pandas as pd\n",
    "    temp = df.describe().toPandas()\n",
    "    temp.iloc[1:3,1:] = temp.iloc[1:3,1:].apply(pd.to_numeric, errors='coerce')\n",
    "    pd.options.display.float_format = '{:,.2f}'.format\n",
    "    return temp\n",
    "prettySummary(taxiparquet)"
   ]
  },
  {
   "cell_type": "code",
   "execution_count": 6,
   "metadata": {},
   "outputs": [
    {
     "data": {
      "text/plain": [
       "11135470"
      ]
     },
     "execution_count": 6,
     "metadata": {},
     "output_type": "execute_result"
    }
   ],
   "source": [
    "taxiparquet.count()"
   ]
  },
  {
   "cell_type": "code",
   "execution_count": 7,
   "metadata": {},
   "outputs": [],
   "source": [
    "taxiparquet.registerTempTable(\"taxi\")"
   ]
  },
  {
   "cell_type": "code",
   "execution_count": 8,
   "metadata": {},
   "outputs": [
    {
     "name": "stdout",
     "output_type": "stream",
     "text": [
      "+---------+--------+\n",
      "|vendor_id|count(1)|\n",
      "+---------+--------+\n",
      "|        1| 5235710|\n",
      "|        2| 5899760|\n",
      "+---------+--------+\n",
      "\n"
     ]
    }
   ],
   "source": [
    "sqlContext.sql(\"SELECT vendor_id, COUNT(*) FROM taxi GROUP BY vendor_id \").show()"
   ]
  },
  {
   "cell_type": "code",
   "execution_count": 9,
   "metadata": {},
   "outputs": [
    {
     "name": "stdout",
     "output_type": "stream",
     "text": [
      "+---------+-------+\n",
      "|vendor_id| number|\n",
      "+---------+-------+\n",
      "|        1|5235710|\n",
      "|        2|5899760|\n",
      "+---------+-------+\n",
      "\n"
     ]
    }
   ],
   "source": [
    "sqlContext.sql(\"SELECT vendor_id, COUNT(*) FROM taxi GROUP BY vendor_id \").withColumnRenamed('count(1)', 'number').show()"
   ]
  },
  {
   "cell_type": "code",
   "execution_count": 10,
   "metadata": {},
   "outputs": [
    {
     "name": "stdout",
     "output_type": "stream",
     "text": [
      "+--------+\n",
      "|count(1)|\n",
      "+--------+\n",
      "| 1063287|\n",
      "+--------+\n",
      "\n"
     ]
    }
   ],
   "source": [
    "sqlContext.sql(\"SELECT COUNT(*) FROM taxi WHERE passenger_count >= 3 and total_amount > 10\").show()"
   ]
  },
  {
   "cell_type": "code",
   "execution_count": 11,
   "metadata": {},
   "outputs": [
    {
     "name": "stdout",
     "output_type": "stream",
     "text": [
      "+---------+-------+\n",
      "|vendor_id|  count|\n",
      "+---------+-------+\n",
      "|        1|5235710|\n",
      "|        2|5899760|\n",
      "+---------+-------+\n",
      "\n"
     ]
    }
   ],
   "source": [
    "taxiparquet.groupBy(\"vendor_id\").count().show()"
   ]
  },
  {
   "cell_type": "code",
   "execution_count": 12,
   "metadata": {},
   "outputs": [
    {
     "data": {
      "text/plain": [
       "7898295"
      ]
     },
     "execution_count": 12,
     "metadata": {},
     "output_type": "execute_result"
    }
   ],
   "source": [
    "taxiparquet.filter(taxiparquet.passenger_count == 1).count()"
   ]
  },
  {
   "cell_type": "code",
   "execution_count": 13,
   "metadata": {},
   "outputs": [
    {
     "data": {
      "text/plain": [
       "1608298"
      ]
     },
     "execution_count": 13,
     "metadata": {},
     "output_type": "execute_result"
    }
   ],
   "source": [
    "taxiparquet.filter(taxiparquet.passenger_count == 2).count()"
   ]
  },
  {
   "cell_type": "code",
   "execution_count": 14,
   "metadata": {},
   "outputs": [
    {
     "data": {
      "text/plain": [
       "1628471"
      ]
     },
     "execution_count": 14,
     "metadata": {},
     "output_type": "execute_result"
    }
   ],
   "source": [
    "taxiparquet.filter(taxiparquet.passenger_count >= 3).count()"
   ]
  },
  {
   "cell_type": "code",
   "execution_count": 15,
   "metadata": {},
   "outputs": [
    {
     "data": {
      "text/plain": [
       "1063287"
      ]
     },
     "execution_count": 15,
     "metadata": {},
     "output_type": "execute_result"
    }
   ],
   "source": [
    "taxiparquet.filter(\"passenger_count >= 3 and total_amount > 10\").count()"
   ]
  },
  {
   "cell_type": "code",
   "execution_count": 16,
   "metadata": {},
   "outputs": [
    {
     "data": {
      "text/plain": [
       "6"
      ]
     },
     "execution_count": 16,
     "metadata": {},
     "output_type": "execute_result"
    }
   ],
   "source": [
    "taxiparquet.filter(\"passenger_count >= 9 and total_amount > 100\").count()"
   ]
  },
  {
   "cell_type": "code",
   "execution_count": 17,
   "metadata": {},
   "outputs": [
    {
     "data": {
      "text/plain": [
       "6"
      ]
     },
     "execution_count": 17,
     "metadata": {},
     "output_type": "execute_result"
    }
   ],
   "source": [
    "taxiparquet.filter( (taxiparquet.passenger_count >= 9) & (taxiparquet.total_amount > 100) ).count()"
   ]
  },
  {
   "cell_type": "code",
   "execution_count": 18,
   "metadata": {},
   "outputs": [
    {
     "data": {
      "text/plain": [
       "[('vendor_id', 'string'),\n",
       " ('pickup_datetime', 'timestamp'),\n",
       " ('dropoff_datetime', 'timestamp'),\n",
       " ('passenger_count', 'int'),\n",
       " ('trip_distance', 'float'),\n",
       " ('pickup_longitude', 'float'),\n",
       " ('pickup_latitude', 'float'),\n",
       " ('rate_code_id', 'int'),\n",
       " ('store_and_fwd_flag', 'string'),\n",
       " ('dropoff_longitude', 'float'),\n",
       " ('dropoff_latitude', 'float'),\n",
       " ('payment_type', 'int'),\n",
       " ('fare_amount', 'float'),\n",
       " ('extra', 'float'),\n",
       " ('mta_tax', 'float'),\n",
       " ('tip_amount', 'float'),\n",
       " ('tolls_amount', 'float'),\n",
       " ('improvement_surcharge', 'float'),\n",
       " ('total_amount', 'float')]"
      ]
     },
     "execution_count": 18,
     "metadata": {},
     "output_type": "execute_result"
    }
   ],
   "source": [
    "taxiparquet.dtypes"
   ]
  },
  {
   "cell_type": "code",
   "execution_count": 19,
   "metadata": {},
   "outputs": [
    {
     "name": "stdout",
     "output_type": "stream",
     "text": [
      "root\n",
      " |-- vendor_id: string (nullable = true)\n",
      " |-- pickup_datetime: timestamp (nullable = true)\n",
      " |-- dropoff_datetime: timestamp (nullable = true)\n",
      " |-- passenger_count: integer (nullable = true)\n",
      " |-- trip_distance: float (nullable = true)\n",
      " |-- pickup_longitude: float (nullable = true)\n",
      " |-- pickup_latitude: float (nullable = true)\n",
      " |-- rate_code_id: integer (nullable = true)\n",
      " |-- store_and_fwd_flag: string (nullable = true)\n",
      " |-- dropoff_longitude: float (nullable = true)\n",
      " |-- dropoff_latitude: float (nullable = true)\n",
      " |-- payment_type: integer (nullable = true)\n",
      " |-- fare_amount: float (nullable = true)\n",
      " |-- extra: float (nullable = true)\n",
      " |-- mta_tax: float (nullable = true)\n",
      " |-- tip_amount: float (nullable = true)\n",
      " |-- tolls_amount: float (nullable = true)\n",
      " |-- improvement_surcharge: float (nullable = true)\n",
      " |-- total_amount: float (nullable = true)\n",
      "\n"
     ]
    }
   ],
   "source": [
    "taxiparquet.printSchema()"
   ]
  },
  {
   "cell_type": "code",
   "execution_count": 20,
   "metadata": {},
   "outputs": [],
   "source": [
    "taxiparquet1 = taxiparquet.withColumnRenamed('dropoff_longitude', 'dropoff_long').withColumnRenamed('dropoff_latitude', 'dropoff_lat').withColumnRenamed('pickup_latitude', 'pickup_lat').withColumnRenamed('pickup_longitude', 'pickup_long')"
   ]
  },
  {
   "cell_type": "code",
   "execution_count": 21,
   "metadata": {},
   "outputs": [
    {
     "data": {
      "text/plain": [
       "[('vendor_id', 'string'),\n",
       " ('pickup_datetime', 'timestamp'),\n",
       " ('dropoff_datetime', 'timestamp'),\n",
       " ('passenger_count', 'int'),\n",
       " ('trip_distance', 'float'),\n",
       " ('pickup_long', 'float'),\n",
       " ('pickup_lat', 'float'),\n",
       " ('rate_code_id', 'int'),\n",
       " ('store_and_fwd_flag', 'string'),\n",
       " ('dropoff_long', 'float'),\n",
       " ('dropoff_lat', 'float'),\n",
       " ('payment_type', 'int'),\n",
       " ('fare_amount', 'float'),\n",
       " ('extra', 'float'),\n",
       " ('mta_tax', 'float'),\n",
       " ('tip_amount', 'float'),\n",
       " ('tolls_amount', 'float'),\n",
       " ('improvement_surcharge', 'float'),\n",
       " ('total_amount', 'float')]"
      ]
     },
     "execution_count": 21,
     "metadata": {},
     "output_type": "execute_result"
    }
   ],
   "source": [
    "taxiparquet1.dtypes"
   ]
  },
  {
   "cell_type": "code",
   "execution_count": 22,
   "metadata": {},
   "outputs": [],
   "source": [
    "import pandas as pd\n",
    "taxi_many = taxiparquet.filter(\"passenger_count >= 9 and total_amount > 100\").toPandas()"
   ]
  },
  {
   "cell_type": "code",
   "execution_count": 23,
   "metadata": {},
   "outputs": [
    {
     "data": {
      "text/html": [
       "<div>\n",
       "<style scoped>\n",
       "    .dataframe tbody tr th:only-of-type {\n",
       "        vertical-align: middle;\n",
       "    }\n",
       "\n",
       "    .dataframe tbody tr th {\n",
       "        vertical-align: top;\n",
       "    }\n",
       "\n",
       "    .dataframe thead th {\n",
       "        text-align: right;\n",
       "    }\n",
       "</style>\n",
       "<table border=\"1\" class=\"dataframe\">\n",
       "  <thead>\n",
       "    <tr style=\"text-align: right;\">\n",
       "      <th></th>\n",
       "      <th>vendor_id</th>\n",
       "      <th>pickup_datetime</th>\n",
       "      <th>dropoff_datetime</th>\n",
       "      <th>passenger_count</th>\n",
       "      <th>trip_distance</th>\n",
       "      <th>pickup_longitude</th>\n",
       "      <th>pickup_latitude</th>\n",
       "      <th>rate_code_id</th>\n",
       "      <th>store_and_fwd_flag</th>\n",
       "      <th>dropoff_longitude</th>\n",
       "      <th>dropoff_latitude</th>\n",
       "      <th>payment_type</th>\n",
       "      <th>fare_amount</th>\n",
       "      <th>extra</th>\n",
       "      <th>mta_tax</th>\n",
       "      <th>tip_amount</th>\n",
       "      <th>tolls_amount</th>\n",
       "      <th>improvement_surcharge</th>\n",
       "      <th>total_amount</th>\n",
       "    </tr>\n",
       "  </thead>\n",
       "  <tbody>\n",
       "    <tr>\n",
       "      <th>0</th>\n",
       "      <td>2</td>\n",
       "      <td>2016-06-14 17:37:52</td>\n",
       "      <td>2016-06-14 17:37:54</td>\n",
       "      <td>9</td>\n",
       "      <td>0.00</td>\n",
       "      <td>0.00</td>\n",
       "      <td>0.00</td>\n",
       "      <td>5</td>\n",
       "      <td>N</td>\n",
       "      <td>-74.18</td>\n",
       "      <td>40.70</td>\n",
       "      <td>1</td>\n",
       "      <td>90.00</td>\n",
       "      <td>0.00</td>\n",
       "      <td>0.50</td>\n",
       "      <td>18.16</td>\n",
       "      <td>0.00</td>\n",
       "      <td>0.30</td>\n",
       "      <td>108.96</td>\n",
       "    </tr>\n",
       "    <tr>\n",
       "      <th>1</th>\n",
       "      <td>2</td>\n",
       "      <td>2016-06-30 12:57:18</td>\n",
       "      <td>2016-06-30 12:57:20</td>\n",
       "      <td>9</td>\n",
       "      <td>0.00</td>\n",
       "      <td>0.00</td>\n",
       "      <td>0.00</td>\n",
       "      <td>5</td>\n",
       "      <td>N</td>\n",
       "      <td>-74.18</td>\n",
       "      <td>40.69</td>\n",
       "      <td>1</td>\n",
       "      <td>94.00</td>\n",
       "      <td>0.00</td>\n",
       "      <td>0.50</td>\n",
       "      <td>18.96</td>\n",
       "      <td>0.00</td>\n",
       "      <td>0.30</td>\n",
       "      <td>113.76</td>\n",
       "    </tr>\n",
       "    <tr>\n",
       "      <th>2</th>\n",
       "      <td>2</td>\n",
       "      <td>2016-06-10 10:09:25</td>\n",
       "      <td>2016-06-10 10:09:27</td>\n",
       "      <td>9</td>\n",
       "      <td>0.00</td>\n",
       "      <td>0.00</td>\n",
       "      <td>0.00</td>\n",
       "      <td>5</td>\n",
       "      <td>N</td>\n",
       "      <td>-73.64</td>\n",
       "      <td>40.72</td>\n",
       "      <td>1</td>\n",
       "      <td>93.33</td>\n",
       "      <td>0.00</td>\n",
       "      <td>0.50</td>\n",
       "      <td>18.83</td>\n",
       "      <td>0.00</td>\n",
       "      <td>0.30</td>\n",
       "      <td>112.96</td>\n",
       "    </tr>\n",
       "    <tr>\n",
       "      <th>3</th>\n",
       "      <td>2</td>\n",
       "      <td>2016-06-04 23:34:09</td>\n",
       "      <td>2016-06-05 00:19:30</td>\n",
       "      <td>9</td>\n",
       "      <td>23.01</td>\n",
       "      <td>-73.78</td>\n",
       "      <td>40.64</td>\n",
       "      <td>5</td>\n",
       "      <td>N</td>\n",
       "      <td>-74.05</td>\n",
       "      <td>40.79</td>\n",
       "      <td>1</td>\n",
       "      <td>90.25</td>\n",
       "      <td>0.00</td>\n",
       "      <td>0.50</td>\n",
       "      <td>21.42</td>\n",
       "      <td>16.04</td>\n",
       "      <td>0.30</td>\n",
       "      <td>128.51</td>\n",
       "    </tr>\n",
       "    <tr>\n",
       "      <th>4</th>\n",
       "      <td>2</td>\n",
       "      <td>2016-06-17 03:33:46</td>\n",
       "      <td>2016-06-17 04:11:05</td>\n",
       "      <td>9</td>\n",
       "      <td>17.79</td>\n",
       "      <td>-73.97</td>\n",
       "      <td>40.75</td>\n",
       "      <td>5</td>\n",
       "      <td>N</td>\n",
       "      <td>-73.78</td>\n",
       "      <td>40.91</td>\n",
       "      <td>1</td>\n",
       "      <td>94.00</td>\n",
       "      <td>0.00</td>\n",
       "      <td>0.00</td>\n",
       "      <td>10.00</td>\n",
       "      <td>0.00</td>\n",
       "      <td>0.30</td>\n",
       "      <td>104.30</td>\n",
       "    </tr>\n",
       "    <tr>\n",
       "      <th>5</th>\n",
       "      <td>2</td>\n",
       "      <td>2016-06-14 22:22:00</td>\n",
       "      <td>2016-06-14 22:51:26</td>\n",
       "      <td>9</td>\n",
       "      <td>21.34</td>\n",
       "      <td>-74.01</td>\n",
       "      <td>40.72</td>\n",
       "      <td>5</td>\n",
       "      <td>N</td>\n",
       "      <td>-74.36</td>\n",
       "      <td>40.71</td>\n",
       "      <td>1</td>\n",
       "      <td>95.00</td>\n",
       "      <td>0.00</td>\n",
       "      <td>0.00</td>\n",
       "      <td>0.00</td>\n",
       "      <td>10.50</td>\n",
       "      <td>0.30</td>\n",
       "      <td>105.80</td>\n",
       "    </tr>\n",
       "  </tbody>\n",
       "</table>\n",
       "</div>"
      ],
      "text/plain": [
       "  vendor_id     pickup_datetime    dropoff_datetime  passenger_count  \\\n",
       "0         2 2016-06-14 17:37:52 2016-06-14 17:37:54                9   \n",
       "1         2 2016-06-30 12:57:18 2016-06-30 12:57:20                9   \n",
       "2         2 2016-06-10 10:09:25 2016-06-10 10:09:27                9   \n",
       "3         2 2016-06-04 23:34:09 2016-06-05 00:19:30                9   \n",
       "4         2 2016-06-17 03:33:46 2016-06-17 04:11:05                9   \n",
       "5         2 2016-06-14 22:22:00 2016-06-14 22:51:26                9   \n",
       "\n",
       "   trip_distance  pickup_longitude  pickup_latitude  rate_code_id  \\\n",
       "0           0.00              0.00             0.00             5   \n",
       "1           0.00              0.00             0.00             5   \n",
       "2           0.00              0.00             0.00             5   \n",
       "3          23.01            -73.78            40.64             5   \n",
       "4          17.79            -73.97            40.75             5   \n",
       "5          21.34            -74.01            40.72             5   \n",
       "\n",
       "  store_and_fwd_flag  dropoff_longitude  dropoff_latitude  payment_type  \\\n",
       "0                  N             -74.18             40.70             1   \n",
       "1                  N             -74.18             40.69             1   \n",
       "2                  N             -73.64             40.72             1   \n",
       "3                  N             -74.05             40.79             1   \n",
       "4                  N             -73.78             40.91             1   \n",
       "5                  N             -74.36             40.71             1   \n",
       "\n",
       "   fare_amount  extra  mta_tax  tip_amount  tolls_amount  \\\n",
       "0        90.00   0.00     0.50       18.16          0.00   \n",
       "1        94.00   0.00     0.50       18.96          0.00   \n",
       "2        93.33   0.00     0.50       18.83          0.00   \n",
       "3        90.25   0.00     0.50       21.42         16.04   \n",
       "4        94.00   0.00     0.00       10.00          0.00   \n",
       "5        95.00   0.00     0.00        0.00         10.50   \n",
       "\n",
       "   improvement_surcharge  total_amount  \n",
       "0                   0.30        108.96  \n",
       "1                   0.30        113.76  \n",
       "2                   0.30        112.96  \n",
       "3                   0.30        128.51  \n",
       "4                   0.30        104.30  \n",
       "5                   0.30        105.80  "
      ]
     },
     "execution_count": 23,
     "metadata": {},
     "output_type": "execute_result"
    }
   ],
   "source": [
    "taxi_many"
   ]
  },
  {
   "cell_type": "code",
   "execution_count": 24,
   "metadata": {},
   "outputs": [
    {
     "data": {
      "text/plain": [
       "127824"
      ]
     },
     "execution_count": 24,
     "metadata": {},
     "output_type": "execute_result"
    }
   ],
   "source": [
    "taxiparquet.filter( (taxiparquet.dropoff_latitude < 10) & (taxiparquet.dropoff_longitude > -50) ).count()"
   ]
  },
  {
   "cell_type": "code",
   "execution_count": 25,
   "metadata": {},
   "outputs": [
    {
     "data": {
      "text/plain": [
       "70811"
      ]
     },
     "execution_count": 25,
     "metadata": {},
     "output_type": "execute_result"
    }
   ],
   "source": [
    "taxiparquet.filter(\"trip_distance == 0.0\").count()"
   ]
  },
  {
   "cell_type": "code",
   "execution_count": 26,
   "metadata": {},
   "outputs": [
    {
     "name": "stdout",
     "output_type": "stream",
     "text": [
      "+--------------------+\n",
      "|max(pickup_datetime)|\n",
      "+--------------------+\n",
      "| 2016-06-30 23:59:59|\n",
      "+--------------------+\n",
      "\n"
     ]
    }
   ],
   "source": [
    "from pyspark.sql.functions import *\n",
    "taxiparquet.select(max(\"pickup_datetime\")).show()"
   ]
  },
  {
   "cell_type": "code",
   "execution_count": 27,
   "metadata": {},
   "outputs": [
    {
     "name": "stdout",
     "output_type": "stream",
     "text": [
      "+--------------------+\n",
      "|min(pickup_datetime)|\n",
      "+--------------------+\n",
      "| 2016-06-01 00:00:00|\n",
      "+--------------------+\n",
      "\n"
     ]
    }
   ],
   "source": [
    "taxiparquet.select(min(\"pickup_datetime\")).show()"
   ]
  },
  {
   "cell_type": "code",
   "execution_count": 28,
   "metadata": {},
   "outputs": [],
   "source": [
    "taxiparquet_dates = taxiparquet.select(taxiparquet['pickup_datetime'], taxiparquet['dropoff_datetime'])"
   ]
  },
  {
   "cell_type": "code",
   "execution_count": 29,
   "metadata": {},
   "outputs": [
    {
     "name": "stdout",
     "output_type": "stream",
     "text": [
      "+-------------------+-------------------+\n",
      "|pickup_datetime    |dropoff_datetime   |\n",
      "+-------------------+-------------------+\n",
      "|2016-06-09 21:06:00|2016-06-09 21:25:39|\n",
      "|2016-06-09 21:13:26|2016-06-09 21:19:16|\n",
      "|2016-06-09 21:13:30|2016-06-09 21:18:20|\n",
      "|2016-06-09 21:13:34|2016-06-09 21:39:57|\n",
      "|2016-06-09 21:06:53|2016-06-09 21:18:13|\n",
      "+-------------------+-------------------+\n",
      "only showing top 5 rows\n",
      "\n"
     ]
    }
   ],
   "source": [
    "taxiparquet_dates.show(5, truncate=False)"
   ]
  },
  {
   "cell_type": "code",
   "execution_count": 30,
   "metadata": {},
   "outputs": [],
   "source": [
    "taxiparquet_dates = taxiparquet_dates.withColumn('pickup_1st', taxiparquet_dates.pickup_datetime < taxiparquet_dates.dropoff_datetime) "
   ]
  },
  {
   "cell_type": "code",
   "execution_count": 31,
   "metadata": {},
   "outputs": [
    {
     "data": {
      "text/plain": [
       "11560"
      ]
     },
     "execution_count": 31,
     "metadata": {},
     "output_type": "execute_result"
    }
   ],
   "source": [
    "#bad records\n",
    "taxiparquet_dates.filter(~taxiparquet_dates.pickup_1st).count() "
   ]
  },
  {
   "cell_type": "code",
   "execution_count": 32,
   "metadata": {},
   "outputs": [
    {
     "name": "stdout",
     "output_type": "stream",
     "text": [
      "+-----------------------+--------+\n",
      "|month(dropoff_datetime)|   count|\n",
      "+-----------------------+--------+\n",
      "|                     12|       1|\n",
      "|                      6|11129946|\n",
      "|                      7|    5523|\n",
      "+-----------------------+--------+\n",
      "\n"
     ]
    }
   ],
   "source": [
    "#strange data\n",
    "taxiparquet_dates.groupBy(month(taxiparquet_dates.dropoff_datetime)).count().show()"
   ]
  },
  {
   "cell_type": "code",
   "execution_count": 33,
   "metadata": {},
   "outputs": [
    {
     "name": "stdout",
     "output_type": "stream",
     "text": [
      "2016-06-30 23:59:59\n"
     ]
    },
    {
     "data": {
      "text/plain": [
       "True"
      ]
     },
     "execution_count": 33,
     "metadata": {},
     "output_type": "execute_result"
    }
   ],
   "source": [
    "max_pickup = taxiparquet.select(max(\"pickup_datetime\")).collect()[0][0]\n",
    "print(max_pickup)\n",
    "from datetime import *\n",
    "max_pickup < datetime(2017,12,31)"
   ]
  },
  {
   "cell_type": "code",
   "execution_count": null,
   "metadata": {},
   "outputs": [],
   "source": []
  }
 ],
 "metadata": {
  "kernelspec": {
   "display_name": "Python 3",
   "language": "python",
   "name": "python3"
  },
  "language_info": {
   "codemirror_mode": {
    "name": "ipython",
    "version": 3
   },
   "file_extension": ".py",
   "mimetype": "text/x-python",
   "name": "python",
   "nbconvert_exporter": "python",
   "pygments_lexer": "ipython3",
   "version": "3.6.7"
  }
 },
 "nbformat": 4,
 "nbformat_minor": 2
}
