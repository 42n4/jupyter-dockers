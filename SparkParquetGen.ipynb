{
 "cells": [
  {
   "cell_type": "code",
   "execution_count": 1,
   "metadata": {},
   "outputs": [],
   "source": [
    "#https://www.nodalpoint.com/spark-data-frames-from-csv-files-handling-headers-column-types/\n",
    "from pyspark import SparkContext\n",
    "from pyspark.sql import SQLContext\n",
    "from pyspark.sql.types import *"
   ]
  },
  {
   "cell_type": "code",
   "execution_count": 2,
   "metadata": {},
   "outputs": [],
   "source": [
    "schema = StructType([\n",
    "    StructField(\"vendor_id\", StringType(), True),\n",
    "    StructField(\"pickup_datetime\", TimestampType(), True),\n",
    "    StructField(\"dropoff_datetime\", TimestampType(), True),\n",
    "    StructField(\"passenger_count\", IntegerType(), True),\n",
    "    StructField(\"trip_distance\", FloatType(), True),\n",
    "    StructField(\"pickup_longitude\", FloatType(), True),\n",
    "    StructField(\"pickup_latitude\", FloatType(), True),\n",
    "    StructField(\"rate_code_id\", IntegerType(), True),\n",
    "    StructField(\"store_and_fwd_flag\", StringType(), True),\n",
    "    StructField(\"dropoff_longitude\", FloatType(), True),\n",
    "    StructField(\"dropoff_latitude\", FloatType(), True),\n",
    "    StructField(\"payment_type\", IntegerType(), True),\n",
    "    StructField(\"fare_amount\", FloatType(), True),\n",
    "    StructField(\"extra\", FloatType(), True),\n",
    "    StructField(\"mta_tax\", FloatType(), True),\n",
    "    StructField(\"tip_amount\", FloatType(), True),\n",
    "    StructField(\"tolls_amount\", FloatType(), True),\n",
    "    StructField(\"improvement_surcharge\", FloatType(), True),\n",
    "    StructField(\"total_amount\", FloatType(), True)])"
   ]
  },
  {
   "cell_type": "code",
   "execution_count": 3,
   "metadata": {},
   "outputs": [],
   "source": [
    "sc = SparkContext(appName=\"CSV2Parquet\")\n",
    "sqlContext = SQLContext(sc)"
   ]
  },
  {
   "cell_type": "code",
   "execution_count": 4,
   "metadata": {},
   "outputs": [],
   "source": [
    "taxiFile = sc.textFile(\"./yellow_tripdata_2016-06.csv\")"
   ]
  },
  {
   "cell_type": "code",
   "execution_count": 5,
   "metadata": {},
   "outputs": [
    {
     "name": "stdout",
     "output_type": "stream",
     "text": [
      "./yellow_tripdata_2016-06.csv MapPartitionsRDD[1] at textFile at NativeMethodAccessorImpl.java:0\n"
     ]
    }
   ],
   "source": [
    "print(taxiFile)"
   ]
  },
  {
   "cell_type": "code",
   "execution_count": 6,
   "metadata": {},
   "outputs": [],
   "source": [
    "taxiHeader = taxiFile.filter(lambda l: \"total_amount\" in l)"
   ]
  },
  {
   "cell_type": "code",
   "execution_count": 7,
   "metadata": {},
   "outputs": [
    {
     "data": {
      "text/plain": [
       "['VendorID,tpep_pickup_datetime,tpep_dropoff_datetime,passenger_count,trip_distance,pickup_longitude,pickup_latitude,RatecodeID,store_and_fwd_flag,dropoff_longitude,dropoff_latitude,payment_type,fare_amount,extra,mta_tax,tip_amount,tolls_amount,improvement_surcharge,total_amount']"
      ]
     },
     "execution_count": 7,
     "metadata": {},
     "output_type": "execute_result"
    }
   ],
   "source": [
    "taxiHeader.collect()"
   ]
  },
  {
   "cell_type": "code",
   "execution_count": 8,
   "metadata": {},
   "outputs": [],
   "source": [
    "taxiNoHeader = taxiFile.subtract(taxiHeader)"
   ]
  },
  {
   "cell_type": "code",
   "execution_count": 9,
   "metadata": {},
   "outputs": [
    {
     "data": {
      "text/plain": [
       "11135471"
      ]
     },
     "execution_count": 9,
     "metadata": {},
     "output_type": "execute_result"
    }
   ],
   "source": [
    "taxiFile.count()"
   ]
  },
  {
   "cell_type": "code",
   "execution_count": 10,
   "metadata": {},
   "outputs": [
    {
     "name": "stdout",
     "output_type": "stream",
     "text": [
      "PythonRDD[11] at RDD at PythonRDD.scala:53\n"
     ]
    }
   ],
   "source": [
    "print(taxiNoHeader)"
   ]
  },
  {
   "cell_type": "code",
   "execution_count": 11,
   "metadata": {},
   "outputs": [
    {
     "data": {
      "text/plain": [
       "11135470"
      ]
     },
     "execution_count": 11,
     "metadata": {},
     "output_type": "execute_result"
    }
   ],
   "source": [
    "taxiNoHeader.count()"
   ]
  },
  {
   "cell_type": "code",
   "execution_count": 12,
   "metadata": {},
   "outputs": [
    {
     "data": {
      "text/plain": [
       "datetime.datetime(2013, 2, 9, 18, 16, 10)"
      ]
     },
     "execution_count": 12,
     "metadata": {},
     "output_type": "execute_result"
    }
   ],
   "source": [
    "from datetime import *\n",
    "from dateutil.parser import parse\n",
    "parse(\"2013-02-09 18:16:10\")"
   ]
  },
  {
   "cell_type": "code",
   "execution_count": 13,
   "metadata": {},
   "outputs": [],
   "source": [
    "schemacopy = StructType([\n",
    "    StructField(\"vendor_id\", StringType(), True),\n",
    "    StructField(\"pickup_datetime\", TimestampType(), True),\n",
    "    StructField(\"dropoff_datetime\", TimestampType(), True),\n",
    "    StructField(\"passenger_count\", IntegerType(), True),\n",
    "    StructField(\"trip_distance\", FloatType(), True),\n",
    "    StructField(\"pickup_longitude\", FloatType(), True),\n",
    "    StructField(\"pickup_latitude\", FloatType(), True),\n",
    "    StructField(\"rate_code_id\", IntegerType(), True),\n",
    "    StructField(\"store_and_fwd_flag\", StringType(), True),\n",
    "    StructField(\"dropoff_longitude\", FloatType(), True),\n",
    "    StructField(\"dropoff_latitude\", FloatType(), True),\n",
    "    StructField(\"payment_type\", IntegerType(), True),\n",
    "    StructField(\"fare_amount\", FloatType(), True),\n",
    "    StructField(\"extra\", FloatType(), True),\n",
    "    StructField(\"mta_tax\", FloatType(), True),\n",
    "    StructField(\"tip_amount\", FloatType(), True),\n",
    "    StructField(\"tolls_amount\", FloatType(), True),\n",
    "    StructField(\"improvement_surcharge\", FloatType(), True),\n",
    "    StructField(\"total_amount\", FloatType(), True)])\n",
    "taxisplit = taxiNoHeader.map(lambda k: k.split(\",\")).map(lambda p: (p[0].strip('\"'), \n",
    "                                                                    parse(p[1].strip('\"')), \n",
    "                                                                    parse(p[2].strip('\"')), \n",
    "                                                                    int(p[3]), \n",
    "                                                                    float(p[4]), \n",
    "                                                                    float(p[5]), \n",
    "                                                                    float(p[6]), \n",
    "                                                                    int(p[7]), \n",
    "                                                                    p[8].strip('\"'),\n",
    "                                                                    float(p[9]), \n",
    "                                                                    float(p[10]), \n",
    "                                                                    int(p[11]), \n",
    "                                                                    float(p[12]), \n",
    "                                                                    float(p[13]), \n",
    "                                                                    float(p[14]), \n",
    "                                                                    float(p[15]), \n",
    "                                                                    float(p[16]), \n",
    "                                                                    float(p[17]), \n",
    "                                                                    float(p[18]) )).toDF(schema)"
   ]
  },
  {
   "cell_type": "code",
   "execution_count": 14,
   "metadata": {},
   "outputs": [
    {
     "name": "stdout",
     "output_type": "stream",
     "text": [
      "DataFrame[vendor_id: string, pickup_datetime: timestamp, dropoff_datetime: timestamp, passenger_count: int, trip_distance: float, pickup_longitude: float, pickup_latitude: float, rate_code_id: int, store_and_fwd_flag: string, dropoff_longitude: float, dropoff_latitude: float, payment_type: int, fare_amount: float, extra: float, mta_tax: float, tip_amount: float, tolls_amount: float, improvement_surcharge: float, total_amount: float]\n"
     ]
    }
   ],
   "source": [
    "taxisplit.head(2)\n",
    "print(taxisplit)"
   ]
  },
  {
   "cell_type": "code",
   "execution_count": 15,
   "metadata": {},
   "outputs": [
    {
     "name": "stdout",
     "output_type": "stream",
     "text": [
      "DataFrame[VendorID: int, tpep_pickup_datetime: timestamp, tpep_dropoff_datetime: timestamp, passenger_count: int, trip_distance: double, pickup_longitude: double, pickup_latitude: double, RatecodeID: int, store_and_fwd_flag: string, dropoff_longitude: double, dropoff_latitude: double, payment_type: int, fare_amount: double, extra: double, mta_tax: double, tip_amount: double, tolls_amount: double, improvement_surcharge: double, total_amount: double]\n"
     ]
    }
   ],
   "source": [
    "#smarter load of the csv file with a header \n",
    "df = sqlContext.read.load(\"./yellow_tripdata_2016-06.csv\", format='com.databricks.spark.csv', header='true', inferSchema='true')\n",
    "print(df)"
   ]
  },
  {
   "cell_type": "code",
   "execution_count": 16,
   "metadata": {},
   "outputs": [
    {
     "name": "stdout",
     "output_type": "stream",
     "text": [
      "DataFrame[vendor_id: int, pickup_datetime: timestamp, dropoff_datetime: timestamp, passenger_count: int, trip_distance: double, pickup_longitude: double, pickup_latitude: double, rate_code_id: int, store_and_fwd_flag: string, dropoff_longitude: double, dropoff_latitude: double, payment_type: int, fare_amount: double, extra: double, mta_tax: double, tip_amount: double, tolls_amount: double, improvement_surcharge: double, total_amount: double, dropoff_datetime: timestamp, pickup_datetime: timestamp]\n"
     ]
    }
   ],
   "source": [
    "df = (df.withColumn('dropoff_datetime', df.tpep_dropoff_datetime.cast('timestamp'))\n",
    "       .withColumn('pickup_datetime', df.tpep_pickup_datetime.cast('timestamp'))\n",
    "       .withColumnRenamed('VendorID', 'vendor_id')\n",
    "       .withColumnRenamed('tpep_pickup_datetime', 'pickup_datetime')\n",
    "       .withColumnRenamed('tpep_dropoff_datetime', 'dropoff_datetime')\n",
    "       .withColumnRenamed('RatecodeID', 'rate_code_id'))\n",
    "print(df)"
   ]
  },
  {
   "cell_type": "code",
   "execution_count": 20,
   "metadata": {},
   "outputs": [],
   "source": [
    "taxisplit.write.parquet('./work/yellow_tripdata_2016-06-parquet')"
   ]
  }
 ],
 "metadata": {
  "kernelspec": {
   "display_name": "Python 3",
   "language": "python",
   "name": "python3"
  },
  "language_info": {
   "codemirror_mode": {
    "name": "ipython",
    "version": 3
   },
   "file_extension": ".py",
   "mimetype": "text/x-python",
   "name": "python",
   "nbconvert_exporter": "python",
   "pygments_lexer": "ipython3",
   "version": "3.6.7"
  }
 },
 "nbformat": 4,
 "nbformat_minor": 2
}
