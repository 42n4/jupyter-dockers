{
 "cells": [
  {
   "cell_type": "markdown",
   "metadata": {},
   "source": [
    "# Introduction to Python Spark\n",
    "#### https://towardsdatascience.com/a-neanderthals-guide-to-apache-spark-in-python-9ef1f156d427\n",
    "#### https://mapr.com/blog/5-minute-guide-understanding-significance-apache-spark/\n",
    "#### https://mapr.com/blog/tips-and-best-practices-to-take-advantage-of-spark-2-x/\n",
    "#### https://towardsdatascience.com/pyspark-and-sparksql-basics-6cb4bf967e53\n",
    "#### https://github.com/pinarersoy/PySpark_SparkSQL_MLib/blob/master/PySpark%20and%20SparkSQL.ipynb\n",
    "#### https://rsandstroem.github.io/sparkkmeans.html\n",
    "#### https://datascience-enthusiast.com/Python/ml_RDD_DataFrames.html\n",
    "#### https://github.com/jadianes/spark-py-notebooks\n",
    "#### https://github.com/jlyang1990/Spark_Python_Do_Big_Data_Analytics"
   ]
  },
  {
   "cell_type": "code",
   "execution_count": 1,
   "metadata": {},
   "outputs": [
    {
     "data": {
      "text/html": [
       "<div>\n",
       "<style scoped>\n",
       "    .dataframe tbody tr th:only-of-type {\n",
       "        vertical-align: middle;\n",
       "    }\n",
       "\n",
       "    .dataframe tbody tr th {\n",
       "        vertical-align: top;\n",
       "    }\n",
       "\n",
       "    .dataframe thead th {\n",
       "        text-align: right;\n",
       "    }\n",
       "</style>\n",
       "<table border=\"1\" class=\"dataframe\">\n",
       "  <thead>\n",
       "    <tr style=\"text-align: right;\">\n",
       "      <th></th>\n",
       "      <th>summary</th>\n",
       "      <th>vendor_id</th>\n",
       "      <th>passenger_count</th>\n",
       "      <th>trip_distance</th>\n",
       "      <th>pickup_longitude</th>\n",
       "      <th>pickup_latitude</th>\n",
       "      <th>rate_code_id</th>\n",
       "      <th>store_and_fwd_flag</th>\n",
       "      <th>dropoff_longitude</th>\n",
       "      <th>dropoff_latitude</th>\n",
       "      <th>payment_type</th>\n",
       "      <th>fare_amount</th>\n",
       "      <th>extra</th>\n",
       "      <th>mta_tax</th>\n",
       "      <th>tip_amount</th>\n",
       "      <th>tolls_amount</th>\n",
       "      <th>improvement_surcharge</th>\n",
       "      <th>total_amount</th>\n",
       "    </tr>\n",
       "  </thead>\n",
       "  <tbody>\n",
       "    <tr>\n",
       "      <th>0</th>\n",
       "      <td>count</td>\n",
       "      <td>11135470</td>\n",
       "      <td>11135470</td>\n",
       "      <td>11135470</td>\n",
       "      <td>11135470</td>\n",
       "      <td>11135470</td>\n",
       "      <td>11135470</td>\n",
       "      <td>11135470</td>\n",
       "      <td>11135470</td>\n",
       "      <td>11135470</td>\n",
       "      <td>11135470</td>\n",
       "      <td>11135470</td>\n",
       "      <td>11135470</td>\n",
       "      <td>11135470</td>\n",
       "      <td>11135470</td>\n",
       "      <td>11135470</td>\n",
       "      <td>11135470</td>\n",
       "      <td>11135470</td>\n",
       "    </tr>\n",
       "    <tr>\n",
       "      <th>1</th>\n",
       "      <td>mean</td>\n",
       "      <td>1.53</td>\n",
       "      <td>1.66</td>\n",
       "      <td>3.04</td>\n",
       "      <td>-73.05</td>\n",
       "      <td>40.24</td>\n",
       "      <td>1.04</td>\n",
       "      <td>NaN</td>\n",
       "      <td>-73.12</td>\n",
       "      <td>40.28</td>\n",
       "      <td>1.35</td>\n",
       "      <td>13.51</td>\n",
       "      <td>0.34</td>\n",
       "      <td>0.50</td>\n",
       "      <td>1.84</td>\n",
       "      <td>0.34</td>\n",
       "      <td>0.30</td>\n",
       "      <td>16.83</td>\n",
       "    </tr>\n",
       "    <tr>\n",
       "      <th>2</th>\n",
       "      <td>stddev</td>\n",
       "      <td>0.50</td>\n",
       "      <td>1.30</td>\n",
       "      <td>21.83</td>\n",
       "      <td>8.21</td>\n",
       "      <td>4.52</td>\n",
       "      <td>0.57</td>\n",
       "      <td>NaN</td>\n",
       "      <td>7.88</td>\n",
       "      <td>4.34</td>\n",
       "      <td>0.49</td>\n",
       "      <td>275.54</td>\n",
       "      <td>0.53</td>\n",
       "      <td>0.04</td>\n",
       "      <td>2.71</td>\n",
       "      <td>1.72</td>\n",
       "      <td>0.01</td>\n",
       "      <td>275.86</td>\n",
       "    </tr>\n",
       "    <tr>\n",
       "      <th>3</th>\n",
       "      <td>min</td>\n",
       "      <td>1</td>\n",
       "      <td>0</td>\n",
       "      <td>0.0</td>\n",
       "      <td>-118.18626</td>\n",
       "      <td>0.0</td>\n",
       "      <td>1</td>\n",
       "      <td>N</td>\n",
       "      <td>-118.18626</td>\n",
       "      <td>0.0</td>\n",
       "      <td>1</td>\n",
       "      <td>-450.0</td>\n",
       "      <td>-41.23</td>\n",
       "      <td>-2.7</td>\n",
       "      <td>-67.7</td>\n",
       "      <td>-12.5</td>\n",
       "      <td>-0.3</td>\n",
       "      <td>-450.8</td>\n",
       "    </tr>\n",
       "    <tr>\n",
       "      <th>4</th>\n",
       "      <td>max</td>\n",
       "      <td>2</td>\n",
       "      <td>9</td>\n",
       "      <td>71732.7</td>\n",
       "      <td>0.0</td>\n",
       "      <td>64.09648</td>\n",
       "      <td>99</td>\n",
       "      <td>Y</td>\n",
       "      <td>106.24688</td>\n",
       "      <td>60.040714</td>\n",
       "      <td>5</td>\n",
       "      <td>628544.75</td>\n",
       "      <td>597.92</td>\n",
       "      <td>60.35</td>\n",
       "      <td>854.85</td>\n",
       "      <td>970.0</td>\n",
       "      <td>11.64</td>\n",
       "      <td>629033.75</td>\n",
       "    </tr>\n",
       "  </tbody>\n",
       "</table>\n",
       "</div>"
      ],
      "text/plain": [
       "  summary vendor_id passenger_count trip_distance pickup_longitude  \\\n",
       "0   count  11135470        11135470      11135470         11135470   \n",
       "1    mean      1.53            1.66          3.04           -73.05   \n",
       "2  stddev      0.50            1.30         21.83             8.21   \n",
       "3     min         1               0           0.0       -118.18626   \n",
       "4     max         2               9       71732.7              0.0   \n",
       "\n",
       "  pickup_latitude rate_code_id store_and_fwd_flag dropoff_longitude  \\\n",
       "0        11135470     11135470           11135470          11135470   \n",
       "1           40.24         1.04                NaN            -73.12   \n",
       "2            4.52         0.57                NaN              7.88   \n",
       "3             0.0            1                  N        -118.18626   \n",
       "4        64.09648           99                  Y         106.24688   \n",
       "\n",
       "  dropoff_latitude payment_type fare_amount     extra   mta_tax tip_amount  \\\n",
       "0         11135470     11135470    11135470  11135470  11135470   11135470   \n",
       "1            40.28         1.35       13.51      0.34      0.50       1.84   \n",
       "2             4.34         0.49      275.54      0.53      0.04       2.71   \n",
       "3              0.0            1      -450.0    -41.23      -2.7      -67.7   \n",
       "4        60.040714            5   628544.75    597.92     60.35     854.85   \n",
       "\n",
       "  tolls_amount improvement_surcharge total_amount  \n",
       "0     11135470              11135470     11135470  \n",
       "1         0.34                  0.30        16.83  \n",
       "2         1.72                  0.01       275.86  \n",
       "3        -12.5                  -0.3       -450.8  \n",
       "4        970.0                 11.64    629033.75  "
      ]
     },
     "execution_count": 1,
     "metadata": {},
     "output_type": "execute_result"
    }
   ],
   "source": [
    "from pyspark import SparkContext\n",
    "from pyspark.sql import SQLContext\n",
    "from pyspark.sql.types import *\n",
    "sc = SparkContext(appName=\"UseParquet\")\n",
    "sqlContext = SQLContext(sc)\n",
    "# Read in the Parquet file created above.\n",
    "# Parquet files are self-describing so the schema is preserved.\n",
    "# The result of loading a parquet file is also a DataFrame.\n",
    "taxiparquet = sqlContext.read.parquet('./work/yellow_tripdata_2016-06-parquet')\n",
    "def prettySummary(df):\n",
    "    \"\"\" Neat summary statistics of a Spark dataframe\n",
    "    Args:\n",
    "        pyspark.sql.dataframe.DataFrame (df): input dataframe\n",
    "    Returns:\n",
    "        pandas.core.frame.DataFrame: a pandas dataframe with the summary statistics of df\n",
    "    \"\"\"\n",
    "    import pandas as pd\n",
    "    temp = df.describe().toPandas()\n",
    "    temp.iloc[1:3,1:] = temp.iloc[1:3,1:].apply(pd.to_numeric, errors='coerce')\n",
    "    pd.options.display.float_format = '{:,.2f}'.format\n",
    "    return temp\n",
    "prettySummary(taxiparquet)"
   ]
  },
  {
   "cell_type": "code",
   "execution_count": 2,
   "metadata": {},
   "outputs": [],
   "source": [
    "taxi_select = taxiparquet.select(['passenger_count','trip_distance','total_amount','tip_amount','payment_type'])"
   ]
  },
  {
   "cell_type": "code",
   "execution_count": 3,
   "metadata": {},
   "outputs": [
    {
     "data": {
      "text/plain": [
       "11135470"
      ]
     },
     "execution_count": 3,
     "metadata": {},
     "output_type": "execute_result"
    }
   ],
   "source": [
    "taxi_select.count()"
   ]
  },
  {
   "cell_type": "code",
   "execution_count": 4,
   "metadata": {},
   "outputs": [
    {
     "data": {
      "text/html": [
       "<div>\n",
       "<style scoped>\n",
       "    .dataframe tbody tr th:only-of-type {\n",
       "        vertical-align: middle;\n",
       "    }\n",
       "\n",
       "    .dataframe tbody tr th {\n",
       "        vertical-align: top;\n",
       "    }\n",
       "\n",
       "    .dataframe thead th {\n",
       "        text-align: right;\n",
       "    }\n",
       "</style>\n",
       "<table border=\"1\" class=\"dataframe\">\n",
       "  <thead>\n",
       "    <tr style=\"text-align: right;\">\n",
       "      <th></th>\n",
       "      <th>summary</th>\n",
       "      <th>passenger_count</th>\n",
       "      <th>trip_distance</th>\n",
       "      <th>total_amount</th>\n",
       "      <th>tip_amount</th>\n",
       "      <th>payment_type</th>\n",
       "    </tr>\n",
       "  </thead>\n",
       "  <tbody>\n",
       "    <tr>\n",
       "      <th>0</th>\n",
       "      <td>count</td>\n",
       "      <td>11135470</td>\n",
       "      <td>11135470</td>\n",
       "      <td>11135470</td>\n",
       "      <td>11135470</td>\n",
       "      <td>11135470</td>\n",
       "    </tr>\n",
       "    <tr>\n",
       "      <th>1</th>\n",
       "      <td>mean</td>\n",
       "      <td>1.66</td>\n",
       "      <td>3.04</td>\n",
       "      <td>16.83</td>\n",
       "      <td>1.84</td>\n",
       "      <td>1.35</td>\n",
       "    </tr>\n",
       "    <tr>\n",
       "      <th>2</th>\n",
       "      <td>stddev</td>\n",
       "      <td>1.30</td>\n",
       "      <td>21.83</td>\n",
       "      <td>275.86</td>\n",
       "      <td>2.71</td>\n",
       "      <td>0.49</td>\n",
       "    </tr>\n",
       "    <tr>\n",
       "      <th>3</th>\n",
       "      <td>min</td>\n",
       "      <td>0</td>\n",
       "      <td>0.0</td>\n",
       "      <td>-450.8</td>\n",
       "      <td>-67.7</td>\n",
       "      <td>1</td>\n",
       "    </tr>\n",
       "    <tr>\n",
       "      <th>4</th>\n",
       "      <td>max</td>\n",
       "      <td>9</td>\n",
       "      <td>71732.7</td>\n",
       "      <td>629033.75</td>\n",
       "      <td>854.85</td>\n",
       "      <td>5</td>\n",
       "    </tr>\n",
       "  </tbody>\n",
       "</table>\n",
       "</div>"
      ],
      "text/plain": [
       "  summary passenger_count trip_distance total_amount tip_amount payment_type\n",
       "0   count        11135470      11135470     11135470   11135470     11135470\n",
       "1    mean            1.66          3.04        16.83       1.84         1.35\n",
       "2  stddev            1.30         21.83       275.86       2.71         0.49\n",
       "3     min               0           0.0       -450.8      -67.7            1\n",
       "4     max               9       71732.7    629033.75     854.85            5"
      ]
     },
     "execution_count": 4,
     "metadata": {},
     "output_type": "execute_result"
    }
   ],
   "source": [
    "prettySummary(taxi_select)"
   ]
  },
  {
   "cell_type": "code",
   "execution_count": 5,
   "metadata": {},
   "outputs": [],
   "source": [
    "from __future__ import print_function\n",
    "from pyspark import SparkContext\n",
    "from pyspark.ml.regression import LinearRegression\n",
    "from pyspark.ml.feature import VectorAssembler"
   ]
  },
  {
   "cell_type": "code",
   "execution_count": 6,
   "metadata": {},
   "outputs": [
    {
     "name": "stdout",
     "output_type": "stream",
     "text": [
      "+---------------+-------------+------------+----------+------------+--------------------+\n",
      "|passenger_count|trip_distance|total_amount|tip_amount|payment_type|            features|\n",
      "+---------------+-------------+------------+----------+------------+--------------------+\n",
      "|              1|          3.1|        15.8|       0.0|           2|[1.0,3.0999999046...|\n",
      "|              1|         1.38|        9.96|      1.66|           1|[1.0,1.3799999952...|\n",
      "|              1|         0.94|         6.8|       0.0|           2|[1.0,0.9399999976...|\n",
      "|              1|          2.9|       22.55|      3.75|           1|[1.0,2.9000000953...|\n",
      "|              1|          0.8|       11.15|      1.85|           1|[1.0,0.8000000119...|\n",
      "+---------------+-------------+------------+----------+------------+--------------------+\n",
      "only showing top 5 rows\n",
      "\n"
     ]
    }
   ],
   "source": [
    "features = ['passenger_count','trip_distance','total_amount','tip_amount']\n",
    "assembler = VectorAssembler(\n",
    "    inputCols=features,\n",
    "    outputCol='features')\n",
    "assembled_taxi = assembler.transform(taxi_select)\n",
    "assembled_taxi.show(5)"
   ]
  },
  {
   "cell_type": "code",
   "execution_count": 7,
   "metadata": {},
   "outputs": [
    {
     "data": {
      "text/plain": [
       "[Row(passenger_count=1, trip_distance=3.0999999046325684, total_amount=15.800000190734863, tip_amount=0.0, payment_type=2),\n",
       " Row(passenger_count=1, trip_distance=1.3799999952316284, total_amount=9.960000038146973, tip_amount=1.659999966621399, payment_type=1),\n",
       " Row(passenger_count=1, trip_distance=0.9399999976158142, total_amount=6.800000190734863, tip_amount=0.0, payment_type=2),\n",
       " Row(passenger_count=1, trip_distance=2.9000000953674316, total_amount=22.549999237060547, tip_amount=3.75, payment_type=1),\n",
       " Row(passenger_count=1, trip_distance=0.800000011920929, total_amount=11.149999618530273, tip_amount=1.850000023841858, payment_type=1)]"
      ]
     },
     "execution_count": 7,
     "metadata": {},
     "output_type": "execute_result"
    }
   ],
   "source": [
    "taxi_select.head(5)"
   ]
  },
  {
   "cell_type": "code",
   "execution_count": 8,
   "metadata": {},
   "outputs": [
    {
     "name": "stdout",
     "output_type": "stream",
     "text": [
      "DataFrame[passenger_count: int, trip_distance: float, total_amount: float, tip_amount: float, payment_type: int]\n",
      "DataFrame[passenger_count: int, trip_distance: float, total_amount: float, tip_amount: float, payment_type: int, features: vector]\n"
     ]
    }
   ],
   "source": [
    "print(taxi_select)\n",
    "print(assembled_taxi)"
   ]
  },
  {
   "cell_type": "code",
   "execution_count": 9,
   "metadata": {},
   "outputs": [],
   "source": [
    "train, test = assembled_taxi.randomSplit([0.6, 0.4], seed=0)\n",
    "#assembled_df.sample(False,0.4, seed=0)"
   ]
  },
  {
   "cell_type": "code",
   "execution_count": 10,
   "metadata": {},
   "outputs": [],
   "source": [
    "lr = LinearRegression(maxIter=10).setLabelCol(\"payment_type\").setFeaturesCol(\"features\")\n",
    "model = lr.fit(train)"
   ]
  },
  {
   "cell_type": "code",
   "execution_count": 11,
   "metadata": {},
   "outputs": [],
   "source": [
    "testing_summary = model.evaluate(test)"
   ]
  },
  {
   "cell_type": "code",
   "execution_count": 12,
   "metadata": {},
   "outputs": [
    {
     "data": {
      "text/plain": [
       "0.4330319267819476"
      ]
     },
     "execution_count": 12,
     "metadata": {},
     "output_type": "execute_result"
    }
   ],
   "source": [
    "testing_summary.rootMeanSquaredError"
   ]
  },
  {
   "cell_type": "code",
   "execution_count": 13,
   "metadata": {},
   "outputs": [
    {
     "name": "stdout",
     "output_type": "stream",
     "text": [
      "+---------------+-------------+------------+----------+------------+------------------+\n",
      "|passenger_count|trip_distance|total_amount|tip_amount|payment_type|        prediction|\n",
      "+---------------+-------------+------------+----------+------------+------------------+\n",
      "|              0|          0.0|         3.8|       0.0|           2|1.5013795539043826|\n",
      "|              0|          0.0|        8.16|      1.36|           1|1.3825334814604624|\n",
      "|              0|          0.0|        8.54|       0.0|           3|1.5014695446837982|\n",
      "|              0|          0.0|         8.8|       0.0|           1|1.5014744808912242|\n",
      "|              0|          0.0|       11.75|       0.0|           1|1.5015304878071687|\n",
      "|              0|          0.0|       29.12|      5.82|           1|0.9929147399101657|\n",
      "|              0|          0.0|       55.85|       0.0|           1|1.5023677437622172|\n",
      "|              0|          0.0|       64.34|       6.0|           1|0.9778428377395803|\n",
      "|              0|          0.0|        79.3|       0.0|           1|1.5028129513961823|\n",
      "|              0|          0.0|       100.0|       0.0|           1|1.5032059490450274|\n",
      "+---------------+-------------+------------+----------+------------+------------------+\n",
      "only showing top 10 rows\n",
      "\n"
     ]
    }
   ],
   "source": [
    "testing_summary.predictions.select('passenger_count','trip_distance','total_amount','tip_amount','payment_type','prediction').show(10)"
   ]
  },
  {
   "cell_type": "code",
   "execution_count": 14,
   "metadata": {},
   "outputs": [],
   "source": [
    "from __future__ import print_function\n",
    "\n",
    "import numpy as np\n",
    "import pandas as pd\n",
    "import matplotlib.pyplot as plt\n",
    "from mpl_toolkits.mplot3d import Axes3D\n",
    "from sklearn.datasets import make_blobs\n",
    "from pyspark import SparkContext\n",
    "from pyspark.ml.clustering import KMeans, KMeansModel\n",
    "from pyspark.ml.feature import VectorAssembler\n",
    "from pyspark.sql import SQLContext\n",
    "from pyspark.mllib.linalg import Vectors\n",
    "from pyspark.sql.types import Row"
   ]
  },
  {
   "cell_type": "code",
   "execution_count": 15,
   "metadata": {},
   "outputs": [
    {
     "name": "stdout",
     "output_type": "stream",
     "text": [
      "+---+--------------------+\n",
      "| id|            features|\n",
      "+---+--------------------+\n",
      "|  0|[1.0,3.0999999046...|\n",
      "|  1|[1.0,1.3799999952...|\n",
      "|  2|[1.0,0.9399999976...|\n",
      "|  3|[1.0,2.9000000953...|\n",
      "|  4|[1.0,0.8000000119...|\n",
      "+---+--------------------+\n",
      "only showing top 5 rows\n",
      "\n"
     ]
    }
   ],
   "source": [
    "from pyspark.sql.functions import monotonically_increasing_id\n",
    "taxi_select = taxi_select.withColumn(\"id\", monotonically_increasing_id()) \n",
    "#move id first (left)\n",
    "taxi_select = taxi_select.select(['id','passenger_count','trip_distance','total_amount','tip_amount','payment_type'])\n",
    "features = ['passenger_count','trip_distance','total_amount','tip_amount']\n",
    "assembler = VectorAssembler(\n",
    "    inputCols=features,\n",
    "    outputCol='features')\n",
    "assembled_taxid_full = assembler.transform(taxi_select).select('id', 'features')\n",
    "assembled_taxid_full.show(5)"
   ]
  },
  {
   "cell_type": "code",
   "execution_count": 16,
   "metadata": {},
   "outputs": [
    {
     "data": {
      "text/plain": [
       "11135470"
      ]
     },
     "execution_count": 16,
     "metadata": {},
     "output_type": "execute_result"
    }
   ],
   "source": [
    "assembled_taxid_full.rdd.count()"
   ]
  },
  {
   "cell_type": "code",
   "execution_count": 17,
   "metadata": {},
   "outputs": [],
   "source": [
    "# subset of 1000000 rows just to make it easy for spark to calculate\n",
    "assembled_taxid=assembled_taxid_full.where(\"id < 1000000\")"
   ]
  },
  {
   "cell_type": "code",
   "execution_count": 18,
   "metadata": {},
   "outputs": [],
   "source": [
    "cost = np.zeros(12)\n",
    "for k in range(5,12):\n",
    "    kmeans = KMeans().setK(k).setSeed(1).setFeaturesCol(\"features\")\n",
    "    model = kmeans.fit(assembled_taxid)\n",
    "    cost[k] = model.computeCost(assembled_taxid) # requires Spark 2.0 or later"
   ]
  },
  {
   "cell_type": "code",
   "execution_count": 19,
   "metadata": {},
   "outputs": [
    {
     "data": {
      "text/plain": [
       "Text(0, 0.5, 'cost')"
      ]
     },
     "execution_count": 19,
     "metadata": {},
     "output_type": "execute_result"
    },
    {
     "data": {
      "image/png": "[encoded data removed]",
      "text/plain": [
       "<Figure size 576x432 with 1 Axes>"
      ]
     },
     "metadata": {
      "needs_background": "light"
     },
     "output_type": "display_data"
    }
   ],
   "source": [
    "fig, ax = plt.subplots(1,1, figsize =(8,6))\n",
    "ax.plot(range(5,12),cost[5:12])\n",
    "ax.set_xlabel('k')\n",
    "ax.set_ylabel('cost')"
   ]
  },
  {
   "cell_type": "code",
   "execution_count": 20,
   "metadata": {},
   "outputs": [
    {
     "name": "stdout",
     "output_type": "stream",
     "text": [
      "Cluster Centers: \n",
      "[ 1.65572646  1.7186308  11.81464269  1.25796702]\n",
      "[1.0000000e+00 0.0000000e+00 8.4527998e+03 0.0000000e+00]\n",
      "[  1.4238806   21.82855222 181.4412838   25.88689552]\n",
      "[ 1.68937508 17.08673654 76.33728553 12.1289879 ]\n",
      "[ 1.69869338 10.31737711 45.14526159  5.87428196]\n",
      "[ 1.6768503   7.53974711 33.0782354   3.69790587]\n",
      "[ 1.66224825  2.83749088 17.02595291  1.92518648]\n",
      "[1.63512034 0.87988843 7.39436572 0.60358293]\n",
      "[ 1.67167161  4.64188223 23.77261831  2.81290742]\n",
      "[ 1.73082495 15.66551091 59.13832936  5.04186895]\n"
     ]
    }
   ],
   "source": [
    "k = 10\n",
    "kmeans = KMeans().setK(k).setSeed(1).setFeaturesCol(\"features\")\n",
    "model = kmeans.fit(assembled_taxid)\n",
    "centers = model.clusterCenters()\n",
    "\n",
    "print(\"Cluster Centers: \")\n",
    "for center in centers:\n",
    "    print(center)"
   ]
  },
  {
   "cell_type": "code",
   "execution_count": 21,
   "metadata": {},
   "outputs": [],
   "source": [
    "transformed = model.transform(assembled_taxid).drop(\"features\").select('id', 'prediction')\n"
   ]
  },
  {
   "cell_type": "code",
   "execution_count": 22,
   "metadata": {},
   "outputs": [],
   "source": [
    "rows = transformed.collect()"
   ]
  },
  {
   "cell_type": "code",
   "execution_count": 23,
   "metadata": {},
   "outputs": [
    {
     "name": "stdout",
     "output_type": "stream",
     "text": [
      "[Row(id=0, prediction=6), Row(id=1, prediction=0), Row(id=2, prediction=7)]\n"
     ]
    }
   ],
   "source": [
    "print(rows[:3])"
   ]
  },
  {
   "cell_type": "code",
   "execution_count": 24,
   "metadata": {},
   "outputs": [
    {
     "name": "stdout",
     "output_type": "stream",
     "text": [
      "+---+----------+\n",
      "| id|prediction|\n",
      "+---+----------+\n",
      "|  0|         6|\n",
      "|  1|         0|\n",
      "|  2|         7|\n",
      "|  3|         8|\n",
      "|  4|         0|\n",
      "|  5|         5|\n",
      "|  6|         7|\n",
      "|  7|         0|\n",
      "|  8|         0|\n",
      "|  9|         0|\n",
      "| 10|         0|\n",
      "| 11|         7|\n",
      "| 12|         7|\n",
      "| 13|         0|\n",
      "| 14|         6|\n",
      "| 15|         8|\n",
      "| 16|         5|\n",
      "| 17|         6|\n",
      "| 18|         0|\n",
      "| 19|         6|\n",
      "+---+----------+\n",
      "only showing top 20 rows\n",
      "\n"
     ]
    }
   ],
   "source": [
    "taxi_pred = sqlContext.createDataFrame(rows)\n",
    "taxi_pred.show()"
   ]
  },
  {
   "cell_type": "code",
   "execution_count": 25,
   "metadata": {},
   "outputs": [
    {
     "name": "stdout",
     "output_type": "stream",
     "text": [
      "+----+----------+--------------------+\n",
      "|  id|prediction|            features|\n",
      "+----+----------+--------------------+\n",
      "|  26|         6|[1.0,2.7999999523...|\n",
      "|  29|         6|[1.0,3.6900000572...|\n",
      "| 474|         6|[1.0,2.5899999141...|\n",
      "| 964|         7|[1.0,0.8999999761...|\n",
      "|1677|         7|[1.0,1.3500000238...|\n",
      "|1697|         7|[1.0,0.5,6.849999...|\n",
      "|1806|         6|[1.0,1.2000000476...|\n",
      "|1950|         7|[1.0,1.5,9.300000...|\n",
      "|2040|         6|[2.0,2.2000000476...|\n",
      "|2214|         8|[1.0,5.3000001907...|\n",
      "|2250|         0|[1.0,1.2999999523...|\n",
      "|2453|         7|[1.0,0.8000000119...|\n",
      "|2509|         6|[1.0,1.6299999952...|\n",
      "|2529|         7|[1.0,0.3300000131...|\n",
      "|2927|         6|[1.0,3.7999999523...|\n",
      "|3091|         0|[1.0,1.8999999761...|\n",
      "|3506|         6|[1.0,2.1600000858...|\n",
      "|3764|         8|[1.0,5.0999999046...|\n",
      "|4590|         7|[1.0,0.7799999713...|\n",
      "|4823|         6|[1.0,3.9900000095...|\n",
      "+----+----------+--------------------+\n",
      "only showing top 20 rows\n",
      "\n"
     ]
    }
   ],
   "source": [
    "taxi_pred = taxi_pred.join(assembled_taxid, 'id')\n",
    "taxi_pred.show()"
   ]
  },
  {
   "cell_type": "code",
   "execution_count": 26,
   "metadata": {},
   "outputs": [
    {
     "data": {
      "text/html": [
       "<div>\n",
       "<style scoped>\n",
       "    .dataframe tbody tr th:only-of-type {\n",
       "        vertical-align: middle;\n",
       "    }\n",
       "\n",
       "    .dataframe tbody tr th {\n",
       "        vertical-align: top;\n",
       "    }\n",
       "\n",
       "    .dataframe thead th {\n",
       "        text-align: right;\n",
       "    }\n",
       "</style>\n",
       "<table border=\"1\" class=\"dataframe\">\n",
       "  <thead>\n",
       "    <tr style=\"text-align: right;\">\n",
       "      <th></th>\n",
       "      <th>prediction</th>\n",
       "      <th>features</th>\n",
       "    </tr>\n",
       "    <tr>\n",
       "      <th>id</th>\n",
       "      <th></th>\n",
       "      <th></th>\n",
       "    </tr>\n",
       "  </thead>\n",
       "  <tbody>\n",
       "    <tr>\n",
       "      <th>26</th>\n",
       "      <td>6</td>\n",
       "      <td>[1.0, 2.799999952316284, 17.299999237060547, 0.0]</td>\n",
       "    </tr>\n",
       "    <tr>\n",
       "      <th>29</th>\n",
       "      <td>6</td>\n",
       "      <td>[1.0, 3.690000057220459, 18.799999237060547, 0.0]</td>\n",
       "    </tr>\n",
       "    <tr>\n",
       "      <th>474</th>\n",
       "      <td>6</td>\n",
       "      <td>[1.0, 2.5899999141693115, 17.760000228881836, ...</td>\n",
       "    </tr>\n",
       "    <tr>\n",
       "      <th>964</th>\n",
       "      <td>7</td>\n",
       "      <td>[1.0, 0.8999999761581421, 8.300000190734863, 1.0]</td>\n",
       "    </tr>\n",
       "    <tr>\n",
       "      <th>1677</th>\n",
       "      <td>7</td>\n",
       "      <td>[1.0, 1.350000023841858, 8.300000190734863, 0.0]</td>\n",
       "    </tr>\n",
       "  </tbody>\n",
       "</table>\n",
       "</div>"
      ],
      "text/plain": [
       "      prediction                                           features\n",
       "id                                                                 \n",
       "26             6  [1.0, 2.799999952316284, 17.299999237060547, 0.0]\n",
       "29             6  [1.0, 3.690000057220459, 18.799999237060547, 0.0]\n",
       "474            6  [1.0, 2.5899999141693115, 17.760000228881836, ...\n",
       "964            7  [1.0, 0.8999999761581421, 8.300000190734863, 1.0]\n",
       "1677           7   [1.0, 1.350000023841858, 8.300000190734863, 0.0]"
      ]
     },
     "execution_count": 26,
     "metadata": {},
     "output_type": "execute_result"
    }
   ],
   "source": [
    "pd_pred = taxi_pred.toPandas().set_index('id')\n",
    "pd_pred.head()"
   ]
  }
 ],
 "metadata": {
  "kernelspec": {
   "display_name": "Python 3",
   "language": "python",
   "name": "python3"
  },
  "language_info": {
   "codemirror_mode": {
    "name": "ipython",
    "version": 3
   },
   "file_extension": ".py",
   "mimetype": "text/x-python",
   "name": "python",
   "nbconvert_exporter": "python",
   "pygments_lexer": "ipython3",
   "version": "3.7.6"
  }
 },
 "nbformat": 4,
 "nbformat_minor": 4
}
