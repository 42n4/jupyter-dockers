{
 "cells": [
  {
   "cell_type": "markdown",
   "metadata": {},
   "source": [
    "#### Python Spark ML model tuning\n",
    "#### https://www.silect.is/blog/2019/4/2/random-forest-in-spark-ml\n",
    "#### https://www.kaggle.com/harlfoxem/housesalesprediction#kc_house_data.csv"
   ]
  },
  {
   "cell_type": "code",
   "execution_count": 1,
   "metadata": {},
   "outputs": [
    {
     "data": {
      "text/plain": [
       "datetime.datetime(2013, 2, 9, 18, 16, 10)"
      ]
     },
     "execution_count": 1,
     "metadata": {},
     "output_type": "execute_result"
    }
   ],
   "source": [
    "#https://www.nodalpoint.com/spark-data-frames-from-csv-files-handling-headers-column-types/\n",
    "from pyspark import SparkContext\n",
    "from pyspark.sql import SQLContext\n",
    "from pyspark.sql.types import *\n",
    "from pyspark.sql.functions import udf,col,dayofmonth,dayofyear,dayofweek,year,weekofyear,to_timestamp,to_date,unix_timestamp\n",
    "from pyspark.ml import Pipeline\n",
    "from pyspark.ml.feature import VectorAssembler\n",
    "from pyspark.ml.regression import RandomForestRegressor\n",
    "from pyspark.ml.evaluation import RegressionEvaluator\n",
    "from pyspark.ml.tuning import ParamGridBuilder, CrossValidator\n",
    "import matplotlib.pyplot as plt\n",
    "import numpy as np\n",
    "from datetime import *\n",
    "from dateutil.parser import parse\n",
    "parse(\"2013-02-09 18:16:10\")"
   ]
  },
  {
   "cell_type": "code",
   "execution_count": 2,
   "metadata": {},
   "outputs": [],
   "source": [
    "sc = SparkContext(appName=\"CSV2Parquet\")\n",
    "sqlContext = SQLContext(sc)"
   ]
  },
  {
   "cell_type": "code",
   "execution_count": 3,
   "metadata": {},
   "outputs": [
    {
     "name": "stdout",
     "output_type": "stream",
     "text": [
      "DataFrame[id: bigint, date: string, price: decimal(7,0), bedrooms: int, bathrooms: double, sqft_living: int, sqft_lot: int, floors: double, waterfront: int, view: int, condition: int, grade: int, sqft_above: int, sqft_basement: int, yr_built: int, yr_renovated: int, zipcode: int, lat: double, long: double, sqft_living15: int, sqft_lot15: int]\n"
     ]
    }
   ],
   "source": [
    "#smarter load of the csv file with a header \n",
    "houseFile = sqlContext.read.load(\"./work/kc_house_data.csv\", format='com.databricks.spark.csv', header='true', inferSchema='true')\n",
    "print(houseFile)"
   ]
  },
  {
   "cell_type": "code",
   "execution_count": 4,
   "metadata": {},
   "outputs": [
    {
     "data": {
      "text/plain": [
       "[Row(id=7129300520, date='20141013T000000', price=Decimal('221900'), bedrooms=3, bathrooms=1.0, sqft_living=1180, sqft_lot=5650, floors=1.0, waterfront=0, view=0, condition=3, grade=7, sqft_above=1180, sqft_basement=0, yr_built=1955, yr_renovated=0, zipcode=98178, lat=47.5112, long=-122.257, sqft_living15=1340, sqft_lot15=5650, datetime='20141013', date_parsed=datetime.datetime(2014, 10, 13, 0, 0))]"
      ]
     },
     "execution_count": 4,
     "metadata": {},
     "output_type": "execute_result"
    }
   ],
   "source": [
    "parseString =  udf(lambda x: datetime.strptime(x, '%Y%m%d'), TimestampType())\n",
    "houseFile = houseFile\n",
    "houseFile=(\n",
    "    houseFile.withColumn('datetime', houseFile.date.substr(1, 8))\n",
    "    .withColumn('date_parsed', parseString(col('datetime'))))\n",
    "houseFile.head(1)"
   ]
  },
  {
   "cell_type": "code",
   "execution_count": 5,
   "metadata": {},
   "outputs": [
    {
     "data": {
      "text/plain": [
       "[Row(id=7129300520, date='20141013T000000', label=Decimal('221900'), bedrooms=3, bathrooms=1.0, sqft_living=1180, sqft_lot=5650, floors=1.0, waterfront=0, view=0, condition=3, grade=7, sqft_above=1180, sqft_basement=0, yr_built=1955, yr_renovated=0, zipcode=98178, lat=47.5112, long=-122.257, sqft_living15=1340, sqft_lot15=5650, datetime='20141013', date_parsed=datetime.datetime(2014, 10, 13, 0, 0), wd=2, dd=13, yyyy=2014, woy=42)]"
      ]
     },
     "execution_count": 5,
     "metadata": {},
     "output_type": "execute_result"
    }
   ],
   "source": [
    "houseFile=(\n",
    "    houseFile.withColumn('wd',dayofweek(houseFile.date_parsed))\n",
    "    .withColumn('dd',dayofmonth(houseFile.date_parsed))\n",
    "    .withColumn('yyyy',year(houseFile.date_parsed))\n",
    "    .withColumn('woy',weekofyear(houseFile.date_parsed))\n",
    "    .withColumnRenamed(\"price\",\"label\")\n",
    "         )\n",
    "houseFile.head(1)"
   ]
  },
  {
   "cell_type": "code",
   "execution_count": 6,
   "metadata": {},
   "outputs": [],
   "source": [
    "columns_to_drop = ['id','date','datetime','date_parsed','sqft_living15','sqft_lot15']\n",
    "houseFile = houseFile.drop(*columns_to_drop)"
   ]
  },
  {
   "cell_type": "code",
   "execution_count": 7,
   "metadata": {},
   "outputs": [
    {
     "data": {
      "text/plain": [
       "[Row(label=Decimal('221900'), bedrooms=3, bathrooms=1.0, sqft_living=1180, sqft_lot=5650, floors=1.0, waterfront=0, view=0, condition=3, grade=7, sqft_above=1180, sqft_basement=0, yr_built=1955, yr_renovated=0, zipcode=98178, lat=47.5112, long=-122.257, wd=2, dd=13, yyyy=2014, woy=42)]"
      ]
     },
     "execution_count": 7,
     "metadata": {},
     "output_type": "execute_result"
    }
   ],
   "source": [
    "houseFile.head(1)"
   ]
  },
  {
   "cell_type": "code",
   "execution_count": 8,
   "metadata": {},
   "outputs": [
    {
     "data": {
      "text/html": [
       "<div>\n",
       "<style scoped>\n",
       "    .dataframe tbody tr th:only-of-type {\n",
       "        vertical-align: middle;\n",
       "    }\n",
       "\n",
       "    .dataframe tbody tr th {\n",
       "        vertical-align: top;\n",
       "    }\n",
       "\n",
       "    .dataframe thead th {\n",
       "        text-align: right;\n",
       "    }\n",
       "</style>\n",
       "<table border=\"1\" class=\"dataframe\">\n",
       "  <thead>\n",
       "    <tr style=\"text-align: right;\">\n",
       "      <th></th>\n",
       "      <th>summary</th>\n",
       "      <th>label</th>\n",
       "      <th>bedrooms</th>\n",
       "      <th>bathrooms</th>\n",
       "      <th>sqft_living</th>\n",
       "      <th>sqft_lot</th>\n",
       "      <th>floors</th>\n",
       "      <th>waterfront</th>\n",
       "      <th>view</th>\n",
       "      <th>condition</th>\n",
       "      <th>...</th>\n",
       "      <th>sqft_basement</th>\n",
       "      <th>yr_built</th>\n",
       "      <th>yr_renovated</th>\n",
       "      <th>zipcode</th>\n",
       "      <th>lat</th>\n",
       "      <th>long</th>\n",
       "      <th>wd</th>\n",
       "      <th>dd</th>\n",
       "      <th>yyyy</th>\n",
       "      <th>woy</th>\n",
       "    </tr>\n",
       "  </thead>\n",
       "  <tbody>\n",
       "    <tr>\n",
       "      <th>0</th>\n",
       "      <td>count</td>\n",
       "      <td>21613</td>\n",
       "      <td>21613</td>\n",
       "      <td>21613</td>\n",
       "      <td>21613</td>\n",
       "      <td>21613</td>\n",
       "      <td>21613</td>\n",
       "      <td>21613</td>\n",
       "      <td>21613</td>\n",
       "      <td>21613</td>\n",
       "      <td>...</td>\n",
       "      <td>21613</td>\n",
       "      <td>21613</td>\n",
       "      <td>21613</td>\n",
       "      <td>21613</td>\n",
       "      <td>21613</td>\n",
       "      <td>21613</td>\n",
       "      <td>21613</td>\n",
       "      <td>21613</td>\n",
       "      <td>21613</td>\n",
       "      <td>21613</td>\n",
       "    </tr>\n",
       "    <tr>\n",
       "      <th>1</th>\n",
       "      <td>mean</td>\n",
       "      <td>540,088.14</td>\n",
       "      <td>3.37</td>\n",
       "      <td>2.11</td>\n",
       "      <td>2,079.90</td>\n",
       "      <td>15,106.97</td>\n",
       "      <td>1.49</td>\n",
       "      <td>0.01</td>\n",
       "      <td>0.23</td>\n",
       "      <td>3.41</td>\n",
       "      <td>...</td>\n",
       "      <td>291.51</td>\n",
       "      <td>1,971.01</td>\n",
       "      <td>84.40</td>\n",
       "      <td>98,077.94</td>\n",
       "      <td>47.56</td>\n",
       "      <td>-122.21</td>\n",
       "      <td>3.94</td>\n",
       "      <td>15.69</td>\n",
       "      <td>2,014.32</td>\n",
       "      <td>26.87</td>\n",
       "    </tr>\n",
       "    <tr>\n",
       "      <th>2</th>\n",
       "      <td>stddev</td>\n",
       "      <td>367,127.20</td>\n",
       "      <td>0.93</td>\n",
       "      <td>0.77</td>\n",
       "      <td>918.44</td>\n",
       "      <td>41,420.51</td>\n",
       "      <td>0.54</td>\n",
       "      <td>0.09</td>\n",
       "      <td>0.77</td>\n",
       "      <td>0.65</td>\n",
       "      <td>...</td>\n",
       "      <td>442.58</td>\n",
       "      <td>29.37</td>\n",
       "      <td>401.68</td>\n",
       "      <td>53.51</td>\n",
       "      <td>0.14</td>\n",
       "      <td>0.14</td>\n",
       "      <td>1.43</td>\n",
       "      <td>8.64</td>\n",
       "      <td>0.47</td>\n",
       "      <td>13.50</td>\n",
       "    </tr>\n",
       "    <tr>\n",
       "      <th>3</th>\n",
       "      <td>min</td>\n",
       "      <td>75000</td>\n",
       "      <td>0</td>\n",
       "      <td>0.0</td>\n",
       "      <td>290</td>\n",
       "      <td>520</td>\n",
       "      <td>1.0</td>\n",
       "      <td>0</td>\n",
       "      <td>0</td>\n",
       "      <td>1</td>\n",
       "      <td>...</td>\n",
       "      <td>0</td>\n",
       "      <td>1900</td>\n",
       "      <td>0</td>\n",
       "      <td>98001</td>\n",
       "      <td>47.1559</td>\n",
       "      <td>-122.519</td>\n",
       "      <td>1</td>\n",
       "      <td>1</td>\n",
       "      <td>2014</td>\n",
       "      <td>1</td>\n",
       "    </tr>\n",
       "    <tr>\n",
       "      <th>4</th>\n",
       "      <td>max</td>\n",
       "      <td>7700000</td>\n",
       "      <td>33</td>\n",
       "      <td>8.0</td>\n",
       "      <td>13540</td>\n",
       "      <td>1651359</td>\n",
       "      <td>3.5</td>\n",
       "      <td>1</td>\n",
       "      <td>4</td>\n",
       "      <td>5</td>\n",
       "      <td>...</td>\n",
       "      <td>4820</td>\n",
       "      <td>2015</td>\n",
       "      <td>2015</td>\n",
       "      <td>98199</td>\n",
       "      <td>47.7776</td>\n",
       "      <td>-121.315</td>\n",
       "      <td>7</td>\n",
       "      <td>31</td>\n",
       "      <td>2015</td>\n",
       "      <td>52</td>\n",
       "    </tr>\n",
       "  </tbody>\n",
       "</table>\n",
       "<p>5 rows × 22 columns</p>\n",
       "</div>"
      ],
      "text/plain": [
       "  summary      label bedrooms bathrooms sqft_living  sqft_lot floors  \\\n",
       "0   count      21613    21613     21613       21613     21613  21613   \n",
       "1    mean 540,088.14     3.37      2.11    2,079.90 15,106.97   1.49   \n",
       "2  stddev 367,127.20     0.93      0.77      918.44 41,420.51   0.54   \n",
       "3     min      75000        0       0.0         290       520    1.0   \n",
       "4     max    7700000       33       8.0       13540   1651359    3.5   \n",
       "\n",
       "  waterfront   view condition  ... sqft_basement yr_built yr_renovated  \\\n",
       "0      21613  21613     21613  ...         21613    21613        21613   \n",
       "1       0.01   0.23      3.41  ...        291.51 1,971.01        84.40   \n",
       "2       0.09   0.77      0.65  ...        442.58    29.37       401.68   \n",
       "3          0      0         1  ...             0     1900            0   \n",
       "4          1      4         5  ...          4820     2015         2015   \n",
       "\n",
       "    zipcode      lat      long     wd     dd     yyyy    woy  \n",
       "0     21613    21613     21613  21613  21613    21613  21613  \n",
       "1 98,077.94    47.56   -122.21   3.94  15.69 2,014.32  26.87  \n",
       "2     53.51     0.14      0.14   1.43   8.64     0.47  13.50  \n",
       "3     98001  47.1559  -122.519      1      1     2014      1  \n",
       "4     98199  47.7776  -121.315      7     31     2015     52  \n",
       "\n",
       "[5 rows x 22 columns]"
      ]
     },
     "execution_count": 8,
     "metadata": {},
     "output_type": "execute_result"
    }
   ],
   "source": [
    "def prettySummary(df):\n",
    "    \"\"\" Neat summary statistics of a Spark dataframe\n",
    "    Args:\n",
    "        pyspark.sql.dataframe.DataFrame (df): input dataframe\n",
    "    Returns:\n",
    "        pandas.core.frame.DataFrame: a pandas dataframe with the summary statistics of df\n",
    "    \"\"\"\n",
    "    import pandas as pd\n",
    "    temp = df.describe().toPandas()\n",
    "    temp.iloc[1:3,1:] = temp.iloc[1:3,1:].apply(pd.to_numeric, errors='coerce')\n",
    "    pd.options.display.float_format = '{:,.2f}'.format\n",
    "    return temp\n",
    "prettySummary(houseFile)"
   ]
  },
  {
   "cell_type": "code",
   "execution_count": 9,
   "metadata": {},
   "outputs": [],
   "source": [
    "houseFile.write.mode('overwrite').parquet('./work/house-parquet')"
   ]
  },
  {
   "cell_type": "code",
   "execution_count": 10,
   "metadata": {},
   "outputs": [],
   "source": [
    "df = sqlContext.read.parquet('./work/house-parquet')"
   ]
  },
  {
   "cell_type": "code",
   "execution_count": 11,
   "metadata": {},
   "outputs": [],
   "source": [
    "# Define the workflow\n",
    "feature_list = []\n",
    "for col in df.columns:\n",
    "    if col == 'label':\n",
    "        continue\n",
    "    else:\n",
    "        feature_list.append(col)\n",
    "\n",
    "assembler = VectorAssembler(inputCols=feature_list, outputCol=\"features\")\n",
    "\n",
    "rf = RandomForestRegressor(labelCol=\"label\", featuresCol=\"features\")\n",
    "\n",
    "pipeline = Pipeline(stages=[assembler, rf])\n"
   ]
  },
  {
   "cell_type": "code",
   "execution_count": 12,
   "metadata": {},
   "outputs": [],
   "source": [
    "# Hyperparameter tuning\n",
    "paramGrid = ParamGridBuilder() \\\n",
    "    .addGrid(rf.numTrees, [int(x) for x in np.linspace(start = 10, stop = 50, num = 3)]) \\\n",
    "    .addGrid(rf.maxDepth, [int(x) for x in np.linspace(start = 5, stop = 25, num = 3)]) \\\n",
    "    .build()\n",
    "\n",
    "crossval = CrossValidator(estimator=pipeline,\n",
    "                          estimatorParamMaps=paramGrid,\n",
    "                          evaluator=RegressionEvaluator(),\n",
    "                          numFolds=3)\n",
    "\n",
    "(trainingData, testData) = df.randomSplit([0.8, 0.2])\n",
    "\n",
    "cvModel = crossval.fit(trainingData)\n",
    "\n",
    "predictions = cvModel.transform(testData)"
   ]
  },
  {
   "cell_type": "code",
   "execution_count": 13,
   "metadata": {},
   "outputs": [
    {
     "data": {
      "image/png": "[encoded data removed]",
      "text/plain": [
       "<Figure size 432x288 with 1 Axes>"
      ]
     },
     "metadata": {
      "needs_background": "light"
     },
     "output_type": "display_data"
    },
    {
     "data": {
      "text/plain": [
       "1.8"
      ]
     },
     "execution_count": 13,
     "metadata": {},
     "output_type": "execute_result"
    }
   ],
   "source": [
    "# Evaluate\n",
    "evaluator = RegressionEvaluator(labelCol=\"label\", predictionCol=\"prediction\", metricName=\"rmse\")\n",
    "\n",
    "rmse = evaluator.evaluate(predictions)\n",
    "\n",
    "rfPred = cvModel.transform(df)\n",
    "\n",
    "rfResult = rfPred.toPandas()\n",
    "\n",
    "plt.plot(rfResult.label, rfResult.prediction, 'bo')\n",
    "plt.xlabel('Price')\n",
    "plt.ylabel('Prediction')\n",
    "plt.suptitle(\"Model Performance RMSE: %f\" % rmse)\n",
    "plt.show()\n",
    "\n",
    "round(233941.72 / rmse, 1) # factor of improvement over baseline\n"
   ]
  },
  {
   "cell_type": "code",
   "execution_count": 14,
   "metadata": {},
   "outputs": [
    {
     "data": {
      "text/plain": [
       "Text(0.5, 1.0, 'Feature Importances')"
      ]
     },
     "execution_count": 14,
     "metadata": {},
     "output_type": "execute_result"
    },
    {
     "data": {
      "image/png": "[encoded data removed]",
      "text/plain": [
       "<Figure size 432x288 with 1 Axes>"
      ]
     },
     "metadata": {
      "needs_background": "light"
     },
     "output_type": "display_data"
    }
   ],
   "source": [
    "# Feature importance\n",
    "bestPipeline = cvModel.bestModel\n",
    "bestModel = bestPipeline.stages[1]\n",
    "\n",
    "importances = bestModel.featureImportances\n",
    "\n",
    "x_values = list(range(len(importances)))\n",
    "\n",
    "plt.bar(x_values, importances, orientation = 'vertical')\n",
    "plt.xticks(x_values, feature_list, rotation=40)\n",
    "plt.ylabel('Importance')\n",
    "plt.xlabel('Feature')\n",
    "plt.title('Feature Importances')"
   ]
  },
  {
   "cell_type": "code",
   "execution_count": 15,
   "metadata": {},
   "outputs": [
    {
     "name": "stdout",
     "output_type": "stream",
     "text": [
      "numTrees -  50\n",
      "maxDepth -  25\n"
     ]
    }
   ],
   "source": [
    "# Best hyperparameters\n",
    "print('numTrees - ', bestModel.getNumTrees)\n",
    "print('maxDepth - ', bestModel.getOrDefault('maxDepth'))"
   ]
  }
 ],
 "metadata": {
  "kernelspec": {
   "display_name": "Python 3",
   "language": "python",
   "name": "python3"
  },
  "language_info": {
   "codemirror_mode": {
    "name": "ipython",
    "version": 3
   },
   "file_extension": ".py",
   "mimetype": "text/x-python",
   "name": "python",
   "nbconvert_exporter": "python",
   "pygments_lexer": "ipython3",
   "version": "3.7.6"
  }
 },
 "nbformat": 4,
 "nbformat_minor": 4
}
