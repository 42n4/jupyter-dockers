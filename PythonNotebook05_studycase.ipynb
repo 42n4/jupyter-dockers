{
 "cells": [
  {
   "cell_type": "code",
   "execution_count": 1,
   "metadata": {},
   "outputs": [],
   "source": [
    "# https://www.kaggle.com/c/titanic\n",
    "# joint randomly chosen kernels\n",
    "import numpy as np  # Mathetimatical Operations\n",
    "import pandas as pd  # Data manipulation\n",
    "import random\n",
    "import time\n",
    "from sys import getsizeof\n",
    "# Visualization\n",
    "import seaborn as sns\n",
    "import matplotlib.pyplot as plot\n",
    "# %matplotlib inline\n",
    "\n",
    "# Sklearn\n",
    "from sklearn.model_selection import train_test_split, RandomizedSearchCV, StratifiedKFold, GridSearchCV\n",
    "from sklearn import preprocessing\n",
    "from sklearn.preprocessing import LabelEncoder\n",
    "from sklearn.preprocessing import OneHotEncoder\n",
    "from sklearn.preprocessing import StandardScaler\n",
    "from sklearn.cluster import KMeans\n",
    "from sklearn.neighbors import KNeighborsClassifier\n",
    "from sklearn.metrics import accuracy_score, auc, roc_curve, roc_auc_score, classification_report, mean_squared_error, \\\n",
    "    confusion_matrix, f1_score, precision_recall_curve, r2_score\n",
    "from sklearn.ensemble import AdaBoostClassifier, BaggingClassifier, GradientBoostingClassifier, RandomForestClassifier, \\\n",
    "    VotingClassifier\n",
    "from sklearn.ensemble import AdaBoostRegressor, BaggingRegressor, GradientBoostingRegressor, RandomForestRegressor\n",
    "\n",
    "# Scipy\n",
    "from scipy.stats import stats\n",
    "from scipy.stats import ttest_ind, ttest_ind_from_stats\n",
    "\n",
    "# XGBoost\n",
    "from xgboost import XGBClassifier\n",
    "from xgboost import XGBRegressor\n",
    "import xgboost as xgb\n",
    "\n",
    "# LightGBM\n",
    "import lightgbm as lgb\n",
    "\n",
    "# Datetime\n",
    "import datetime\n",
    "import time\n",
    "from datetime import datetime\n",
    "\n",
    "# Folium\n",
    "import folium\n",
    "from folium import plugins\n",
    "from folium.plugins import HeatMap\n",
    "\n",
    "# Image\n",
    "from IPython.display import Image\n",
    "\n",
    "# pip install https://github.com/scikit-optimize/scikit-optimize/archive/v0.7.4.zip\n",
    "# Bayesian Optimizer\n",
    "from skopt import BayesSearchCV\n",
    "\n",
    "# Itertools\n",
    "import itertools\n",
    "\n",
    "# roc\n",
    "from sklearn.metrics import roc_curve\n",
    "from sklearn.utils import resample\n",
    "# pip install https://github.com/edouardlp/ml-utils/archive/master.zip\n",
    "# from mlutils.transformers import Preprocessor\n",
    "from sklearn.feature_extraction import FeatureHasher\n",
    "\n",
    "# Remove warnings\n",
    "import warnings\n",
    "warnings.filterwarnings('ignore')"
   ]
  },
  {
   "cell_type": "code",
   "execution_count": 2,
   "metadata": {},
   "outputs": [],
   "source": [
    "# SETTINGS - CHANGE THESE TO GET SOMETHING MEANINGFUL\n",
    "ITERATIONS = 3\n",
    "NJOBS = 3\n",
    "NSPLIT = NJOBS\n",
    "# TRAINING_SIZE = 100000\n",
    "# TEST_SIZE = 25000\n",
    "SEED = round(time.time())\n",
    "# SEED = 1584353119\n",
    "random.seed(SEED)"
   ]
  },
  {
   "cell_type": "code",
   "execution_count": 3,
   "metadata": {},
   "outputs": [
    {
     "data": {
      "text/html": [
       "<div>\n",
       "<style scoped>\n",
       "    .dataframe tbody tr th:only-of-type {\n",
       "        vertical-align: middle;\n",
       "    }\n",
       "\n",
       "    .dataframe tbody tr th {\n",
       "        vertical-align: top;\n",
       "    }\n",
       "\n",
       "    .dataframe thead th {\n",
       "        text-align: right;\n",
       "    }\n",
       "</style>\n",
       "<table border=\"1\" class=\"dataframe\">\n",
       "  <thead>\n",
       "    <tr style=\"text-align: right;\">\n",
       "      <th></th>\n",
       "      <th>PassengerId</th>\n",
       "      <th>Survived</th>\n",
       "      <th>Pclass</th>\n",
       "      <th>Name</th>\n",
       "      <th>Sex</th>\n",
       "      <th>Age</th>\n",
       "      <th>SibSp</th>\n",
       "      <th>Parch</th>\n",
       "      <th>Ticket</th>\n",
       "      <th>Fare</th>\n",
       "      <th>Cabin</th>\n",
       "      <th>Embarked</th>\n",
       "    </tr>\n",
       "  </thead>\n",
       "  <tbody>\n",
       "    <tr>\n",
       "      <th>406</th>\n",
       "      <td>407</td>\n",
       "      <td>0</td>\n",
       "      <td>3</td>\n",
       "      <td>Widegren, Mr. Carl/Charles Peter</td>\n",
       "      <td>male</td>\n",
       "      <td>51.0</td>\n",
       "      <td>0</td>\n",
       "      <td>0</td>\n",
       "      <td>347064</td>\n",
       "      <td>7.7500</td>\n",
       "      <td>NaN</td>\n",
       "      <td>S</td>\n",
       "    </tr>\n",
       "    <tr>\n",
       "      <th>349</th>\n",
       "      <td>350</td>\n",
       "      <td>0</td>\n",
       "      <td>3</td>\n",
       "      <td>Dimic, Mr. Jovan</td>\n",
       "      <td>male</td>\n",
       "      <td>42.0</td>\n",
       "      <td>0</td>\n",
       "      <td>0</td>\n",
       "      <td>315088</td>\n",
       "      <td>8.6625</td>\n",
       "      <td>NaN</td>\n",
       "      <td>S</td>\n",
       "    </tr>\n",
       "    <tr>\n",
       "      <th>492</th>\n",
       "      <td>493</td>\n",
       "      <td>0</td>\n",
       "      <td>1</td>\n",
       "      <td>Molson, Mr. Harry Markland</td>\n",
       "      <td>male</td>\n",
       "      <td>55.0</td>\n",
       "      <td>0</td>\n",
       "      <td>0</td>\n",
       "      <td>113787</td>\n",
       "      <td>30.5000</td>\n",
       "      <td>C30</td>\n",
       "      <td>S</td>\n",
       "    </tr>\n",
       "  </tbody>\n",
       "</table>\n",
       "</div>"
      ],
      "text/plain": [
       "     PassengerId  Survived  Pclass                              Name   Sex  \\\n",
       "406          407         0       3  Widegren, Mr. Carl/Charles Peter  male   \n",
       "349          350         0       3                  Dimic, Mr. Jovan  male   \n",
       "492          493         0       1        Molson, Mr. Harry Markland  male   \n",
       "\n",
       "      Age  SibSp  Parch  Ticket     Fare Cabin Embarked  \n",
       "406  51.0      0      0  347064   7.7500   NaN        S  \n",
       "349  42.0      0      0  315088   8.6625   NaN        S  \n",
       "492  55.0      0      0  113787  30.5000   C30        S  "
      ]
     },
     "execution_count": 3,
     "metadata": {},
     "output_type": "execute_result"
    }
   ],
   "source": [
    "data_train = pd.read_csv('work/titanic_train.csv')\n",
    "data_test = pd.read_csv('work/titanic_test.csv')\n",
    "\n",
    "data_train.sample(3)"
   ]
  },
  {
   "cell_type": "code",
   "execution_count": 4,
   "metadata": {},
   "outputs": [
    {
     "data": {
      "image/png": "[encoded data removed]",
      "text/plain": [
       "<Figure size 432x288 with 1 Axes>"
      ]
     },
     "metadata": {
      "needs_background": "light"
     },
     "output_type": "display_data"
    }
   ],
   "source": [
    "sns.barplot(x=\"Embarked\", y=\"Survived\", hue=\"Sex\", data=data_train);\n",
    "plot.show()"
   ]
  },
  {
   "cell_type": "code",
   "execution_count": 5,
   "metadata": {},
   "outputs": [
    {
     "data": {
      "image/png": "[encoded data removed]",
      "text/plain": [
       "<Figure size 432x288 with 1 Axes>"
      ]
     },
     "metadata": {
      "needs_background": "light"
     },
     "output_type": "display_data"
    }
   ],
   "source": [
    "# sns.violinplot(x=\"Embarked\", y=\"Survived\", data=data_train);\n",
    "sns.boxplot(x=\"Parch\", y=\"Survived\", hue=\"Sex\", data=data_train, palette=\"PRGn\");\n",
    "sns.despine(offset=10, trim=True)\n",
    "plot.show()"
   ]
  },
  {
   "cell_type": "code",
   "execution_count": 6,
   "metadata": {},
   "outputs": [
    {
     "data": {
      "image/png": "[encoded data removed]",
      "text/plain": [
       "<Figure size 432x288 with 1 Axes>"
      ]
     },
     "metadata": {
      "needs_background": "light"
     },
     "output_type": "display_data"
    }
   ],
   "source": [
    "sns.pointplot(x=\"Pclass\", y=\"Survived\", hue=\"Sex\", data=data_train,\n",
    "              palette={\"male\": \"blue\", \"female\": \"pink\"},\n",
    "              markers=[\"*\", \"o\"], linestyles=[\"-\", \"--\"]);\n",
    "plot.show()"
   ]
  },
  {
   "cell_type": "code",
   "execution_count": 7,
   "metadata": {},
   "outputs": [
    {
     "data": {
      "text/html": [
       "<div>\n",
       "<style scoped>\n",
       "    .dataframe tbody tr th:only-of-type {\n",
       "        vertical-align: middle;\n",
       "    }\n",
       "\n",
       "    .dataframe tbody tr th {\n",
       "        vertical-align: top;\n",
       "    }\n",
       "\n",
       "    .dataframe thead th {\n",
       "        text-align: right;\n",
       "    }\n",
       "</style>\n",
       "<table border=\"1\" class=\"dataframe\">\n",
       "  <thead>\n",
       "    <tr style=\"text-align: right;\">\n",
       "      <th></th>\n",
       "      <th>PassengerId</th>\n",
       "      <th>Survived</th>\n",
       "      <th>Pclass</th>\n",
       "      <th>Sex</th>\n",
       "      <th>Age</th>\n",
       "      <th>SibSp</th>\n",
       "      <th>Parch</th>\n",
       "      <th>Fare</th>\n",
       "      <th>Cabin</th>\n",
       "      <th>Lname</th>\n",
       "      <th>NamePrefix</th>\n",
       "    </tr>\n",
       "  </thead>\n",
       "  <tbody>\n",
       "    <tr>\n",
       "      <th>0</th>\n",
       "      <td>1</td>\n",
       "      <td>0</td>\n",
       "      <td>3</td>\n",
       "      <td>male</td>\n",
       "      <td>Student</td>\n",
       "      <td>1</td>\n",
       "      <td>0</td>\n",
       "      <td>1_quartile</td>\n",
       "      <td>N</td>\n",
       "      <td>Braund,</td>\n",
       "      <td>Mr.</td>\n",
       "    </tr>\n",
       "    <tr>\n",
       "      <th>1</th>\n",
       "      <td>2</td>\n",
       "      <td>1</td>\n",
       "      <td>1</td>\n",
       "      <td>female</td>\n",
       "      <td>Adult</td>\n",
       "      <td>1</td>\n",
       "      <td>0</td>\n",
       "      <td>4_quartile</td>\n",
       "      <td>C</td>\n",
       "      <td>Cumings,</td>\n",
       "      <td>Mrs.</td>\n",
       "    </tr>\n",
       "    <tr>\n",
       "      <th>2</th>\n",
       "      <td>3</td>\n",
       "      <td>1</td>\n",
       "      <td>3</td>\n",
       "      <td>female</td>\n",
       "      <td>Young Adult</td>\n",
       "      <td>0</td>\n",
       "      <td>0</td>\n",
       "      <td>1_quartile</td>\n",
       "      <td>N</td>\n",
       "      <td>Heikkinen,</td>\n",
       "      <td>Miss.</td>\n",
       "    </tr>\n",
       "    <tr>\n",
       "      <th>3</th>\n",
       "      <td>4</td>\n",
       "      <td>1</td>\n",
       "      <td>1</td>\n",
       "      <td>female</td>\n",
       "      <td>Young Adult</td>\n",
       "      <td>1</td>\n",
       "      <td>0</td>\n",
       "      <td>4_quartile</td>\n",
       "      <td>C</td>\n",
       "      <td>Futrelle,</td>\n",
       "      <td>Mrs.</td>\n",
       "    </tr>\n",
       "    <tr>\n",
       "      <th>4</th>\n",
       "      <td>5</td>\n",
       "      <td>0</td>\n",
       "      <td>3</td>\n",
       "      <td>male</td>\n",
       "      <td>Young Adult</td>\n",
       "      <td>0</td>\n",
       "      <td>0</td>\n",
       "      <td>2_quartile</td>\n",
       "      <td>N</td>\n",
       "      <td>Allen,</td>\n",
       "      <td>Mr.</td>\n",
       "    </tr>\n",
       "  </tbody>\n",
       "</table>\n",
       "</div>"
      ],
      "text/plain": [
       "   PassengerId  Survived  Pclass     Sex          Age  SibSp  Parch  \\\n",
       "0            1         0       3    male      Student      1      0   \n",
       "1            2         1       1  female        Adult      1      0   \n",
       "2            3         1       3  female  Young Adult      0      0   \n",
       "3            4         1       1  female  Young Adult      1      0   \n",
       "4            5         0       3    male  Young Adult      0      0   \n",
       "\n",
       "         Fare Cabin       Lname NamePrefix  \n",
       "0  1_quartile     N     Braund,        Mr.  \n",
       "1  4_quartile     C    Cumings,       Mrs.  \n",
       "2  1_quartile     N  Heikkinen,      Miss.  \n",
       "3  4_quartile     C   Futrelle,       Mrs.  \n",
       "4  2_quartile     N      Allen,        Mr.  "
      ]
     },
     "execution_count": 7,
     "metadata": {},
     "output_type": "execute_result"
    }
   ],
   "source": [
    "def simplify_ages(df):\n",
    "    df.Age = df.Age.fillna(-0.5)\n",
    "    bins = (-1, 0, 5, 12, 18, 25, 35, 60, 120)\n",
    "    group_names = ['Unknown', 'Baby', 'Child', 'Teenager', 'Student', 'Young Adult', 'Adult', 'Senior']\n",
    "    categories = pd.cut(df.Age, bins, labels=group_names)\n",
    "    df.Age = categories\n",
    "    return df\n",
    "\n",
    "\n",
    "def simplify_cabins(df):\n",
    "    df.Cabin = df.Cabin.fillna('N')\n",
    "    df.Cabin = df.Cabin.apply(lambda x: x[0])\n",
    "    return df\n",
    "\n",
    "\n",
    "def simplify_fares(df):\n",
    "    df.Fare = df.Fare.fillna(-0.5)\n",
    "    bins = (-1, 0, 8, 15, 31, 1000)\n",
    "    group_names = ['Unknown', '1_quartile', '2_quartile', '3_quartile', '4_quartile']\n",
    "    categories = pd.cut(df.Fare, bins, labels=group_names)\n",
    "    df.Fare = categories\n",
    "    return df\n",
    "\n",
    "\n",
    "def format_name(df):\n",
    "    df['Lname'] = df.Name.apply(lambda x: x.split(' ')[0])\n",
    "    df['NamePrefix'] = df.Name.apply(lambda x: x.split(' ')[1])\n",
    "    return df\n",
    "\n",
    "\n",
    "def drop_features(df):\n",
    "    return df.drop(['Ticket', 'Name', 'Embarked'], axis=1)\n",
    "\n",
    "\n",
    "def transform_features(df):\n",
    "    df = simplify_ages(df)\n",
    "    df = simplify_cabins(df)\n",
    "    df = simplify_fares(df)\n",
    "    df = format_name(df)\n",
    "    df = drop_features(df)\n",
    "    return df\n",
    "\n",
    "\n",
    "data_train = transform_features(data_train)\n",
    "data_test = transform_features(data_test)\n",
    "data_train.head()"
   ]
  },
  {
   "cell_type": "code",
   "execution_count": 8,
   "metadata": {},
   "outputs": [
    {
     "data": {
      "image/png": "[encoded data removed]",
      "text/plain": [
       "<Figure size 432x288 with 1 Axes>"
      ]
     },
     "metadata": {
      "needs_background": "light"
     },
     "output_type": "display_data"
    }
   ],
   "source": [
    "sns.barplot(x=\"Age\", y=\"Survived\", hue=\"Sex\", data=data_train);\n",
    "plot.show()"
   ]
  },
  {
   "cell_type": "code",
   "execution_count": 9,
   "metadata": {},
   "outputs": [
    {
     "data": {
      "image/png": "[encoded data removed]",
      "text/plain": [
       "<Figure size 432x288 with 1 Axes>"
      ]
     },
     "metadata": {
      "needs_background": "light"
     },
     "output_type": "display_data"
    }
   ],
   "source": [
    "sns.barplot(x=\"Cabin\", y=\"Survived\", hue=\"Sex\", data=data_train);\n",
    "plot.show()"
   ]
  },
  {
   "cell_type": "code",
   "execution_count": 10,
   "metadata": {},
   "outputs": [
    {
     "data": {
      "image/png": "[encoded data removed]",
      "text/plain": [
       "<Figure size 432x288 with 1 Axes>"
      ]
     },
     "metadata": {
      "needs_background": "light"
     },
     "output_type": "display_data"
    }
   ],
   "source": [
    "sns.barplot(x=\"Fare\", y=\"Survived\", hue=\"Sex\", data=data_train);\n",
    "plot.show()"
   ]
  },
  {
   "cell_type": "code",
   "execution_count": 11,
   "metadata": {},
   "outputs": [
    {
     "data": {
      "text/html": [
       "<div>\n",
       "<style scoped>\n",
       "    .dataframe tbody tr th:only-of-type {\n",
       "        vertical-align: middle;\n",
       "    }\n",
       "\n",
       "    .dataframe tbody tr th {\n",
       "        vertical-align: top;\n",
       "    }\n",
       "\n",
       "    .dataframe thead th {\n",
       "        text-align: right;\n",
       "    }\n",
       "</style>\n",
       "<table border=\"1\" class=\"dataframe\">\n",
       "  <thead>\n",
       "    <tr style=\"text-align: right;\">\n",
       "      <th></th>\n",
       "      <th>PassengerId</th>\n",
       "      <th>Survived</th>\n",
       "      <th>Pclass</th>\n",
       "      <th>Sex</th>\n",
       "      <th>Age</th>\n",
       "      <th>SibSp</th>\n",
       "      <th>Parch</th>\n",
       "      <th>Fare</th>\n",
       "      <th>Cabin</th>\n",
       "      <th>Lname</th>\n",
       "      <th>NamePrefix</th>\n",
       "    </tr>\n",
       "  </thead>\n",
       "  <tbody>\n",
       "    <tr>\n",
       "      <th>0</th>\n",
       "      <td>1</td>\n",
       "      <td>0</td>\n",
       "      <td>3</td>\n",
       "      <td>1</td>\n",
       "      <td>4</td>\n",
       "      <td>1</td>\n",
       "      <td>0</td>\n",
       "      <td>0</td>\n",
       "      <td>7</td>\n",
       "      <td>100</td>\n",
       "      <td>19</td>\n",
       "    </tr>\n",
       "    <tr>\n",
       "      <th>1</th>\n",
       "      <td>2</td>\n",
       "      <td>1</td>\n",
       "      <td>1</td>\n",
       "      <td>0</td>\n",
       "      <td>0</td>\n",
       "      <td>1</td>\n",
       "      <td>0</td>\n",
       "      <td>3</td>\n",
       "      <td>2</td>\n",
       "      <td>182</td>\n",
       "      <td>20</td>\n",
       "    </tr>\n",
       "    <tr>\n",
       "      <th>2</th>\n",
       "      <td>3</td>\n",
       "      <td>1</td>\n",
       "      <td>3</td>\n",
       "      <td>0</td>\n",
       "      <td>7</td>\n",
       "      <td>0</td>\n",
       "      <td>0</td>\n",
       "      <td>0</td>\n",
       "      <td>7</td>\n",
       "      <td>329</td>\n",
       "      <td>16</td>\n",
       "    </tr>\n",
       "    <tr>\n",
       "      <th>3</th>\n",
       "      <td>4</td>\n",
       "      <td>1</td>\n",
       "      <td>1</td>\n",
       "      <td>0</td>\n",
       "      <td>7</td>\n",
       "      <td>1</td>\n",
       "      <td>0</td>\n",
       "      <td>3</td>\n",
       "      <td>2</td>\n",
       "      <td>267</td>\n",
       "      <td>20</td>\n",
       "    </tr>\n",
       "    <tr>\n",
       "      <th>4</th>\n",
       "      <td>5</td>\n",
       "      <td>0</td>\n",
       "      <td>3</td>\n",
       "      <td>1</td>\n",
       "      <td>7</td>\n",
       "      <td>0</td>\n",
       "      <td>0</td>\n",
       "      <td>1</td>\n",
       "      <td>7</td>\n",
       "      <td>15</td>\n",
       "      <td>19</td>\n",
       "    </tr>\n",
       "  </tbody>\n",
       "</table>\n",
       "</div>"
      ],
      "text/plain": [
       "   PassengerId  Survived  Pclass  Sex  Age  SibSp  Parch  Fare  Cabin  Lname  \\\n",
       "0            1         0       3    1    4      1      0     0      7    100   \n",
       "1            2         1       1    0    0      1      0     3      2    182   \n",
       "2            3         1       3    0    7      0      0     0      7    329   \n",
       "3            4         1       1    0    7      1      0     3      2    267   \n",
       "4            5         0       3    1    7      0      0     1      7     15   \n",
       "\n",
       "   NamePrefix  \n",
       "0          19  \n",
       "1          20  \n",
       "2          16  \n",
       "3          20  \n",
       "4          19  "
      ]
     },
     "execution_count": 11,
     "metadata": {},
     "output_type": "execute_result"
    }
   ],
   "source": [
    "from sklearn import preprocessing\n",
    "def encode_features(df_train, df_test):\n",
    "    features = ['Fare', 'Cabin', 'Age', 'Sex', 'Lname', 'NamePrefix']\n",
    "    df_combined = pd.concat([df_train[features], df_test[features]])\n",
    "\n",
    "    for feature in features:\n",
    "        le = preprocessing.LabelEncoder()\n",
    "        le = le.fit(df_combined[feature])\n",
    "        df_train[feature] = le.transform(df_train[feature])\n",
    "        df_test[feature] = le.transform(df_test[feature])\n",
    "    return df_train, df_test\n",
    "\n",
    "data_train, data_test = encode_features(data_train, data_test)\n",
    "data_train.head()"
   ]
  },
  {
   "cell_type": "code",
   "execution_count": 12,
   "metadata": {},
   "outputs": [],
   "source": [
    "from sklearn.model_selection import train_test_split\n",
    "\n",
    "X_all = data_train.drop(['Survived', 'PassengerId'], axis=1)\n",
    "y_all = data_train['Survived']\n",
    "\n",
    "num_test = 0.20\n",
    "X_train, X_test, y_train, y_test = train_test_split(X_all, y_all, test_size=num_test, random_state=SEED)\n"
   ]
  },
  {
   "cell_type": "code",
   "execution_count": 13,
   "metadata": {},
   "outputs": [
    {
     "name": "stdout",
     "output_type": "stream",
     "text": [
      "0.7821229050279329\n"
     ]
    }
   ],
   "source": [
    "from sklearn.ensemble import RandomForestClassifier\n",
    "from sklearn.metrics import make_scorer, accuracy_score\n",
    "from sklearn.model_selection import GridSearchCV\n",
    "\n",
    "# Choose the type of classifier.\n",
    "clf = RandomForestClassifier()\n",
    "\n",
    "# Choose some parameter combinations to try\n",
    "parameters = {'n_estimators': [4, 6, 9],\n",
    "              'max_features': ['log2', 'sqrt','auto'],\n",
    "              'criterion': ['entropy', 'gini'],\n",
    "              'max_depth': [2, 3, 5, 10],\n",
    "              'min_samples_split': [2, 3, 5],\n",
    "              'min_samples_leaf': [1,5,8]\n",
    "             }\n",
    "\n",
    "# Type of scoring used to compare parameter combinations\n",
    "acc_scorer = make_scorer(accuracy_score)\n",
    "\n",
    "# Run the grid search\n",
    "grid_obj = GridSearchCV(clf, parameters, scoring=acc_scorer)\n",
    "grid_obj = grid_obj.fit(X_train, y_train)\n",
    "\n",
    "# Set the clf to the best combination of parameters\n",
    "clf = grid_obj.best_estimator_\n",
    "\n",
    "# Fit the best algorithm to the data.\n",
    "clf.fit(X_train, y_train)\n",
    "\n",
    "predictions = clf.predict(X_test)\n",
    "print(accuracy_score(y_test, predictions))"
   ]
  },
  {
   "cell_type": "code",
   "execution_count": 14,
   "metadata": {},
   "outputs": [
    {
     "name": "stdout",
     "output_type": "stream",
     "text": [
      "Fold 1 accuracy: 0.8222222222222222\n",
      "Fold 2 accuracy: 0.8426966292134831\n",
      "Fold 3 accuracy: 0.7865168539325843\n",
      "Fold 4 accuracy: 0.797752808988764\n",
      "Fold 5 accuracy: 0.8202247191011236\n",
      "Fold 6 accuracy: 0.8314606741573034\n",
      "Fold 7 accuracy: 0.7640449438202247\n",
      "Fold 8 accuracy: 0.7415730337078652\n",
      "Fold 9 accuracy: 0.8876404494382022\n",
      "Fold 10 accuracy: 0.7640449438202247\n",
      "Mean Accuracy: 0.8058177278401997\n"
     ]
    },
    {
     "data": {
      "text/html": [
       "<div>\n",
       "<style scoped>\n",
       "    .dataframe tbody tr th:only-of-type {\n",
       "        vertical-align: middle;\n",
       "    }\n",
       "\n",
       "    .dataframe tbody tr th {\n",
       "        vertical-align: top;\n",
       "    }\n",
       "\n",
       "    .dataframe thead th {\n",
       "        text-align: right;\n",
       "    }\n",
       "</style>\n",
       "<table border=\"1\" class=\"dataframe\">\n",
       "  <thead>\n",
       "    <tr style=\"text-align: right;\">\n",
       "      <th></th>\n",
       "      <th>PassengerId</th>\n",
       "      <th>Survived</th>\n",
       "    </tr>\n",
       "  </thead>\n",
       "  <tbody>\n",
       "    <tr>\n",
       "      <th>0</th>\n",
       "      <td>892</td>\n",
       "      <td>0</td>\n",
       "    </tr>\n",
       "    <tr>\n",
       "      <th>1</th>\n",
       "      <td>893</td>\n",
       "      <td>0</td>\n",
       "    </tr>\n",
       "    <tr>\n",
       "      <th>2</th>\n",
       "      <td>894</td>\n",
       "      <td>0</td>\n",
       "    </tr>\n",
       "    <tr>\n",
       "      <th>3</th>\n",
       "      <td>895</td>\n",
       "      <td>0</td>\n",
       "    </tr>\n",
       "    <tr>\n",
       "      <th>4</th>\n",
       "      <td>896</td>\n",
       "      <td>1</td>\n",
       "    </tr>\n",
       "  </tbody>\n",
       "</table>\n",
       "</div>"
      ],
      "text/plain": [
       "   PassengerId  Survived\n",
       "0          892         0\n",
       "1          893         0\n",
       "2          894         0\n",
       "3          895         0\n",
       "4          896         1"
      ]
     },
     "execution_count": 14,
     "metadata": {},
     "output_type": "execute_result"
    }
   ],
   "source": [
    "\n",
    "# https://scikit-learn.org/stable/modules/cross_validation.html\n",
    "from sklearn.model_selection import KFold\n",
    "\n",
    "def run_kfold(clf):\n",
    "    kf = KFold(n_splits=10)\n",
    "    outcomes = []\n",
    "    fold = 0\n",
    "    for train_index, test_index in kf.split(X_all):\n",
    "        fold += 1\n",
    "        X_train, X_test = X_all.values[train_index], X_all.values[test_index]\n",
    "        y_train, y_test = y_all.values[train_index], y_all.values[test_index]\n",
    "        clf.fit(X_train, y_train)\n",
    "        predictions = clf.predict(X_test)\n",
    "        accuracy = accuracy_score(y_test, predictions)\n",
    "        outcomes.append(accuracy)\n",
    "        print(\"Fold {0} accuracy: {1}\".format(fold, accuracy))\n",
    "    mean_outcome = np.mean(outcomes)\n",
    "    print(\"Mean Accuracy: {0}\".format(mean_outcome))\n",
    "\n",
    "run_kfold(clf)\n",
    "ids = data_test['PassengerId']\n",
    "predictions = clf.predict(data_test.drop('PassengerId', axis=1))\n",
    "\n",
    "output = pd.DataFrame({ 'PassengerId' : ids, 'Survived': predictions })\n",
    "# output.to_csv('titanic-predictions.csv', index = False)\n",
    "output.head()"
   ]
  },
  {
   "cell_type": "code",
   "execution_count": 15,
   "metadata": {},
   "outputs": [
    {
     "name": "stdout",
     "output_type": "stream",
     "text": [
      "Model #1\n",
      "Best ROC-AUC: 0.8508\n",
      "Best params: OrderedDict([('colsample_bylevel', 0.2812406425781984), ('colsample_bytree', 0.8710792741524772), ('gamma', 4.62439329933301e-07), ('learning_rate', 0.5451860909305293), ('max_delta_step', 12), ('max_depth', 30), ('min_child_weight', 10), ('n_estimators', 72), ('reg_alpha', 0.014073973776031225), ('reg_lambda', 358), ('scale_pos_weight', 437), ('subsample', 0.5640019447375181)])\n",
      "\n",
      "Model #2\n",
      "Best ROC-AUC: 0.8508\n",
      "Best params: OrderedDict([('colsample_bylevel', 0.2812406425781984), ('colsample_bytree', 0.8710792741524772), ('gamma', 4.62439329933301e-07), ('learning_rate', 0.5451860909305293), ('max_delta_step', 12), ('max_depth', 30), ('min_child_weight', 10), ('n_estimators', 72), ('reg_alpha', 0.014073973776031225), ('reg_lambda', 358), ('scale_pos_weight', 437), ('subsample', 0.5640019447375181)])\n",
      "\n",
      "Model #3\n",
      "Best ROC-AUC: 0.8508\n",
      "Best params: OrderedDict([('colsample_bylevel', 0.2812406425781984), ('colsample_bytree', 0.8710792741524772), ('gamma', 4.62439329933301e-07), ('learning_rate', 0.5451860909305293), ('max_delta_step', 12), ('max_depth', 30), ('min_child_weight', 10), ('n_estimators', 72), ('reg_alpha', 0.014073973776031225), ('reg_lambda', 358), ('scale_pos_weight', 437), ('subsample', 0.5640019447375181)])\n",
      "\n",
      "OrderedDict([('colsample_bylevel', 0.2812406425781984), ('colsample_bytree', 0.8710792741524772), ('gamma', 4.62439329933301e-07), ('learning_rate', 0.5451860909305293), ('max_delta_step', 12), ('max_depth', 30), ('min_child_weight', 10), ('n_estimators', 72), ('reg_alpha', 0.014073973776031225), ('reg_lambda', 358), ('scale_pos_weight', 437), ('subsample', 0.5640019447375181)])\n"
     ]
    }
   ],
   "source": [
    "def status_print(optim_result):\n",
    "    \"\"\"Status callback durring bayesian hyperparameter search\"\"\"\n",
    "\n",
    "    # Get all the models tested so far in DataFrame format\n",
    "    all_models = pd.DataFrame(bayes_cv_tuner.cv_results_)\n",
    "\n",
    "    # Get current parameters and the best parameters\n",
    "    best_params = pd.Series(bayes_cv_tuner.best_params_)\n",
    "    print('Model #{}\\nBest ROC-AUC: {}\\nBest params: {}\\n'.format(\n",
    "        len(all_models),\n",
    "        np.round(bayes_cv_tuner.best_score_, 4),\n",
    "        bayes_cv_tuner.best_params_\n",
    "    ))\n",
    "    \n",
    "    \n",
    "# Classifier\n",
    "bayes_cv_tuner = BayesSearchCV(\n",
    "    estimator = xgb.XGBClassifier(\n",
    "        n_jobs = NJOBS,\n",
    "        objective = 'binary:logistic',\n",
    "        eval_metric = 'auc',\n",
    "        silent=1,\n",
    "        tree_method='approx'\n",
    "    ),\n",
    "    search_spaces = {\n",
    "        'learning_rate': (0.01, 1.0, 'log-uniform'),\n",
    "        'min_child_weight': (0, 10),\n",
    "        'max_depth': (1, 50),\n",
    "        'max_delta_step': (0, 20),\n",
    "        'subsample': (0.01, 1.0, 'uniform'),\n",
    "        'colsample_bytree': (0.01, 1.0, 'uniform'),\n",
    "        'colsample_bylevel': (0.01, 1.0, 'uniform'),\n",
    "        'reg_lambda': (1e-9, 1000, 'log-uniform'),\n",
    "        'reg_alpha': (1e-9, 1.0, 'log-uniform'),\n",
    "        'gamma': (1e-9, 0.5, 'log-uniform'),\n",
    "        'min_child_weight': (0, 10),\n",
    "        'n_estimators': (50, 100),\n",
    "        'scale_pos_weight': (1e-6, 500, 'log-uniform')\n",
    "    },\n",
    "    scoring = 'roc_auc',\n",
    "    cv = StratifiedKFold(\n",
    "        n_splits=NSPLIT,\n",
    "        shuffle=True,\n",
    "        random_state=SEED\n",
    "    ),\n",
    "    n_jobs = NJOBS,\n",
    "    n_iter = ITERATIONS,\n",
    "    verbose = 0,\n",
    "    refit = True,\n",
    "    random_state = SEED\n",
    ")\n",
    "\n",
    "# resultxgb = bayes_cv_tuner.fit(X, y, callback=status_print)\n",
    "resultxgb = bayes_cv_tuner.fit(X_train, y_train, callback=status_print)\n",
    "print(resultxgb.best_params_)"
   ]
  },
  {
   "cell_type": "code",
   "execution_count": 16,
   "metadata": {},
   "outputs": [
    {
     "name": "stdout",
     "output_type": "stream",
     "text": [
      "The baseline AUC score on the test set is 0.8417.\n"
     ]
    }
   ],
   "source": [
    "xgbmodel = XGBClassifier(**resultxgb.best_params_)\n",
    "\n",
    "xgbmodel.fit(X_train, y_train)\n",
    "preds_xgb = xgbmodel.predict_proba(X_test)[:, 1]\n",
    "labels = ['No Apply', 'Apply']\n",
    "xgb_roc_auc = roc_auc_score(y_test, preds_xgb)\n",
    "\n",
    "print('The baseline AUC score on the test set is {:.4f}.'.format(xgb_roc_auc))"
   ]
  },
  {
   "cell_type": "code",
   "execution_count": 17,
   "metadata": {},
   "outputs": [
    {
     "name": "stdout",
     "output_type": "stream",
     "text": [
      "Model #1\n",
      "Best ROC-AUC: 0.8585\n",
      "Best params: OrderedDict([('colsample_bytree', 0.2812406425781984), ('learning_rate', 0.5489769236686779), ('max_depth', 16), ('min_child_weight', 4), ('n_estimators', 80), ('reg_alpha', 0.00019863509070312246), ('reg_lambda', 953), ('subsample', 0.4357546959956106)])\n",
      "\n",
      "Model #2\n",
      "Best ROC-AUC: 0.8591\n",
      "Best params: OrderedDict([('colsample_bytree', 0.13738496256035446), ('learning_rate', 0.1468524454118524), ('max_depth', 16), ('min_child_weight', 2), ('n_estimators', 91), ('reg_alpha', 7.734998882143651e-07), ('reg_lambda', 167), ('subsample', 0.5622303960571408)])\n",
      "\n",
      "Model #3\n",
      "Best ROC-AUC: 0.8591\n",
      "Best params: OrderedDict([('colsample_bytree', 0.13738496256035446), ('learning_rate', 0.1468524454118524), ('max_depth', 16), ('min_child_weight', 2), ('n_estimators', 91), ('reg_alpha', 7.734998882143651e-07), ('reg_lambda', 167), ('subsample', 0.5622303960571408)])\n",
      "\n",
      "OrderedDict([('colsample_bytree', 0.13738496256035446), ('learning_rate', 0.1468524454118524), ('max_depth', 16), ('min_child_weight', 2), ('n_estimators', 91), ('reg_alpha', 7.734998882143651e-07), ('reg_lambda', 167), ('subsample', 0.5622303960571408)])\n"
     ]
    }
   ],
   "source": [
    "# Classifier\n",
    "bayes_cv_tuner = BayesSearchCV(\n",
    "    estimator = lgb.LGBMClassifier(\n",
    "        n_jobs = NJOBS,\n",
    "        objective = 'binary',\n",
    "        #eval_metric = 'logloss',\n",
    "        #tree_method='hist',\n",
    "        boosting_type='gbdt',\n",
    "        silent=1\n",
    "    ),\n",
    "    search_spaces = {\n",
    "        'learning_rate': (0.01, 1.0, 'log-uniform'),\n",
    "        'min_child_weight': (0, 10),\n",
    "        'max_depth': (1, 50),\n",
    "        'subsample': (0.01, 1.0, 'uniform'),\n",
    "        'colsample_bytree': (0.01, 1.0, 'uniform'),\n",
    "        'reg_lambda': (1e-9, 1000, 'log-uniform'),\n",
    "        'reg_alpha': (1e-9, 1.0, 'log-uniform'),\n",
    "        'min_child_weight': (0, 5),\n",
    "        'n_estimators': (50, 100)\n",
    "    },\n",
    "    scoring = 'roc_auc',\n",
    "    cv = StratifiedKFold(\n",
    "        n_splits=NSPLIT,\n",
    "        shuffle=True,\n",
    "        random_state=SEED\n",
    "    ),\n",
    "    n_jobs = NJOBS,\n",
    "    n_iter = ITERATIONS,\n",
    "    verbose = 0,\n",
    "    refit = True,\n",
    "    random_state = SEED\n",
    ")\n",
    "\n",
    "# resultlgb = bayes_cv_tuner.fit(X, y, callback=status_print)\n",
    "resultlgb = bayes_cv_tuner.fit(X_train, y_train, callback=status_print)\n",
    "print(resultlgb.best_params_)"
   ]
  },
  {
   "cell_type": "code",
   "execution_count": 18,
   "metadata": {},
   "outputs": [
    {
     "name": "stdout",
     "output_type": "stream",
     "text": [
      "The baseline AUC score on the test set is 0.8417.\n"
     ]
    }
   ],
   "source": [
    "Lgbmodel = lgb.LGBMClassifier(**resultlgb.best_params_)\n",
    "\n",
    "Lgbmodel.fit(X_train, y_train)\n",
    "preds_lgb = Lgbmodel.predict_proba(X_test)[:, 1]\n",
    "labels = [0, 1]\n",
    "lgb_roc_auc = roc_auc_score(y_test, preds_xgb)\n",
    "\n",
    "print('The baseline AUC score on the test set is {:.4f}.'.format(lgb_roc_auc))"
   ]
  },
  {
   "cell_type": "code",
   "execution_count": 19,
   "metadata": {},
   "outputs": [
    {
     "name": "stdout",
     "output_type": "stream",
     "text": [
      "Model #1\n",
      "Best ROC-AUC: 0.8687\n",
      "Best params: OrderedDict([('max_depth', 5), ('max_features', 6), ('min_samples_split', 5), ('n_estimators', 447)])\n",
      "\n",
      "Model #2\n",
      "Best ROC-AUC: 0.8687\n",
      "Best params: OrderedDict([('max_depth', 5), ('max_features', 6), ('min_samples_split', 5), ('n_estimators', 447)])\n",
      "\n",
      "Model #3\n",
      "Best ROC-AUC: 0.8695\n",
      "Best params: OrderedDict([('max_depth', 8), ('max_features', 3), ('min_samples_split', 20), ('n_estimators', 148)])\n",
      "\n",
      "OrderedDict([('max_depth', 8), ('max_features', 3), ('min_samples_split', 20), ('n_estimators', 148)])\n"
     ]
    }
   ],
   "source": [
    "# Classifier\n",
    "bayes_cv_tuner = BayesSearchCV(\n",
    "    estimator = RandomForestClassifier(\n",
    "        n_jobs = -1\n",
    "    ),\n",
    "    search_spaces = {\n",
    "    'min_samples_split': [3, 5, 8, 10, 20],\n",
    "    'n_estimators' : [100, 500],\n",
    "    'max_depth': [3, 5, 8, 10, 15],\n",
    "    'max_features': [3, 5, 6]\n",
    "},\n",
    "    scoring = 'roc_auc',\n",
    "    cv = StratifiedKFold(\n",
    "        n_splits=NSPLIT,\n",
    "        shuffle=True,\n",
    "        random_state=SEED\n",
    "    ),\n",
    "    n_jobs = NJOBS,\n",
    "    n_iter = ITERATIONS,\n",
    "    verbose = 0,\n",
    "    refit = True,\n",
    "    random_state = SEED\n",
    ")\n",
    "\n",
    "resultrf = bayes_cv_tuner.fit(X_train, y_train, callback=status_print)\n",
    "print(resultrf.best_params_)"
   ]
  },
  {
   "cell_type": "code",
   "execution_count": 20,
   "metadata": {},
   "outputs": [
    {
     "name": "stdout",
     "output_type": "stream",
     "text": [
      "The baseline score on the test set is 0.8571.\n"
     ]
    }
   ],
   "source": [
    "rfmodel = RandomForestClassifier(**resultrf.best_params_,\n",
    "            class_weight = \"balanced\",\n",
    "            bootstrap = True,\n",
    "            criterion = 'entropy',\n",
    "            random_state = SEED\n",
    "    )\n",
    "\n",
    "rfmodel.fit(X_train, y_train)\n",
    "preds_rf = rfmodel.predict_proba(X_test)[:,1]\n",
    "rf_roc_auc = roc_auc_score(y_test, preds_rf)\n",
    "print('The baseline score on the test set is {:.4f}.'.format(rf_roc_auc))"
   ]
  },
  {
   "cell_type": "code",
   "execution_count": 21,
   "metadata": {},
   "outputs": [
    {
     "name": "stdout",
     "output_type": "stream",
     "text": [
      "The baseline AUC score on the test set is 0.8510.\n"
     ]
    }
   ],
   "source": [
    "eclf = VotingClassifier(estimators=[('xgb',xgbmodel),('lgb',Lgbmodel),('rf',rfmodel)], voting='soft', weights=[1,1,1])\n",
    "\n",
    "eclf.fit(X_train, y_train)\n",
    "preds_eclf = eclf.predict_proba(X_test)[:,1]\n",
    "\n",
    "eclf_roc_auc = roc_auc_score(y_test, preds_eclf)\n",
    "\n",
    "print('The baseline AUC score on the test set is {:.4f}.'.format(eclf_roc_auc))"
   ]
  },
  {
   "cell_type": "code",
   "execution_count": 22,
   "metadata": {},
   "outputs": [
    {
     "data": {
      "image/png": "[encoded data removed]",
      "text/plain": [
       "<Figure size 576x360 with 1 Axes>"
      ]
     },
     "metadata": {
      "needs_background": "light"
     },
     "output_type": "display_data"
    },
    {
     "name": "stdout",
     "output_type": "stream",
     "text": [
      "1587823387\n"
     ]
    }
   ],
   "source": [
    "lgb_fpr, lgb_tpr, lgb_thresholds = roc_curve(y_test, Lgbmodel.predict_proba(X_test)[:,1])\n",
    "xgb_fpr, xgb_tpr, xgb_thresholds = roc_curve(y_test, xgbmodel.predict_proba(X_test)[:,1])\n",
    "eclf_fpr, eclf_tpr, eclf_thresholds = roc_curve(y_test, eclf.predict_proba(X_test)[:,1])\n",
    "\n",
    "plot.figure(figsize=(8,5))\n",
    "\n",
    "# Plot LGB Classifier ROC\n",
    "plot.plot(lgb_fpr, lgb_tpr, label='LGB (area = %0.4f)' % lgb_roc_auc)\n",
    "\n",
    "# Plot XGB classifier ROC\n",
    "plot.plot(xgb_fpr, xgb_tpr, label='XGB (area = %0.4f)' % xgb_roc_auc)\n",
    "rf_fpr, rf_tpr, rf_thresholds = roc_curve(y_test, rfmodel.predict_proba(X_test)[:,1])\n",
    "plot.plot(rf_fpr, rf_tpr, label='RF (area = %0.4f)' % rf_roc_auc)\n",
    "# Plot Ensemble classifier ROC\n",
    "plot.plot(eclf_fpr, eclf_tpr, label='Ensemble (area = %0.4f)' % eclf_roc_auc)\n",
    "# Plot Base Rate ROC\n",
    "plot.plot([0,1], [0,1],label='Base Rate')\n",
    "plot.xlim([0.0, 1.0])\n",
    "plot.ylim([0.0, 1.05])\n",
    "plot.xlabel('False Positive Rate')\n",
    "plot.ylabel('True Positive Rate')\n",
    "plot.title('ROC Graph')\n",
    "plot.legend(loc=\"lower right\")\n",
    "plot.show()\n",
    "print(SEED)"
   ]
  }
 ],
 "metadata": {
  "kernelspec": {
   "display_name": "Python 3",
   "language": "python",
   "name": "python3"
  },
  "language_info": {
   "codemirror_mode": {
    "name": "ipython",
    "version": 3
   },
   "file_extension": ".py",
   "mimetype": "text/x-python",
   "name": "python",
   "nbconvert_exporter": "python",
   "pygments_lexer": "ipython3",
   "version": "3.7.6"
  }
 },
 "nbformat": 4,
 "nbformat_minor": 4
}
