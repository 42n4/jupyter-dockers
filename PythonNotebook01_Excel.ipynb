{
 "cells": [
  {
   "cell_type": "code",
   "execution_count": 1,
   "metadata": {},
   "outputs": [],
   "source": [
    "from matplotlib.text import Text\n",
    "from scipy.optimize import curve_fit\n",
    "import pandas as pd\n",
    "import numpy as np\n",
    "import matplotlib.pyplot as plot"
   ]
  },
  {
   "cell_type": "code",
   "execution_count": 2,
   "metadata": {},
   "outputs": [],
   "source": [
    "# generate data if you don't have any already.\n",
    "n = 20\n",
    "g = 9.806\n",
    "v0 = 12.22\n",
    "y0 = 0.33\n",
    "sy = 0.5\n",
    "data_x = np.linspace(0, 2, n)\n",
    "data_y = y0 + v0 * data_x - 0.5 * g * data_x ** 2 + np.random.randn(n) * sy\n",
    "data_sy = sy + np.random.randn(n) * sy / 10"
   ]
  },
  {
   "cell_type": "code",
   "execution_count": 3,
   "metadata": {},
   "outputs": [],
   "source": [
    "d = pd.DataFrame(data={'time': [round(x, 2) for x in data_x],\n",
    "                       'pos': [round(x, 2) for x in data_y],\n",
    "                       's_pos': [round(x, 2) for x in data_sy]})\n",
    "d.to_excel(\"data.xls\")"
   ]
  },
  {
   "cell_type": "code",
   "execution_count": 4,
   "metadata": {},
   "outputs": [
    {
     "data": {
      "text/html": [
       "<div>\n",
       "<style scoped>\n",
       "    .dataframe tbody tr th:only-of-type {\n",
       "        vertical-align: middle;\n",
       "    }\n",
       "\n",
       "    .dataframe tbody tr th {\n",
       "        vertical-align: top;\n",
       "    }\n",
       "\n",
       "    .dataframe thead th {\n",
       "        text-align: right;\n",
       "    }\n",
       "</style>\n",
       "<table border=\"1\" class=\"dataframe\">\n",
       "  <thead>\n",
       "    <tr style=\"text-align: right;\">\n",
       "      <th></th>\n",
       "      <th>Unnamed: 0</th>\n",
       "      <th>time</th>\n",
       "      <th>pos</th>\n",
       "      <th>s_pos</th>\n",
       "    </tr>\n",
       "  </thead>\n",
       "  <tbody>\n",
       "    <tr>\n",
       "      <th>0</th>\n",
       "      <td>0</td>\n",
       "      <td>0.00</td>\n",
       "      <td>0.30</td>\n",
       "      <td>0.38</td>\n",
       "    </tr>\n",
       "    <tr>\n",
       "      <th>1</th>\n",
       "      <td>1</td>\n",
       "      <td>0.11</td>\n",
       "      <td>1.76</td>\n",
       "      <td>0.51</td>\n",
       "    </tr>\n",
       "    <tr>\n",
       "      <th>2</th>\n",
       "      <td>2</td>\n",
       "      <td>0.21</td>\n",
       "      <td>2.51</td>\n",
       "      <td>0.50</td>\n",
       "    </tr>\n",
       "    <tr>\n",
       "      <th>3</th>\n",
       "      <td>3</td>\n",
       "      <td>0.32</td>\n",
       "      <td>4.50</td>\n",
       "      <td>0.49</td>\n",
       "    </tr>\n",
       "    <tr>\n",
       "      <th>4</th>\n",
       "      <td>4</td>\n",
       "      <td>0.42</td>\n",
       "      <td>4.12</td>\n",
       "      <td>0.46</td>\n",
       "    </tr>\n",
       "    <tr>\n",
       "      <th>5</th>\n",
       "      <td>5</td>\n",
       "      <td>0.53</td>\n",
       "      <td>5.73</td>\n",
       "      <td>0.39</td>\n",
       "    </tr>\n",
       "    <tr>\n",
       "      <th>6</th>\n",
       "      <td>6</td>\n",
       "      <td>0.63</td>\n",
       "      <td>6.33</td>\n",
       "      <td>0.46</td>\n",
       "    </tr>\n",
       "    <tr>\n",
       "      <th>7</th>\n",
       "      <td>7</td>\n",
       "      <td>0.74</td>\n",
       "      <td>7.46</td>\n",
       "      <td>0.52</td>\n",
       "    </tr>\n",
       "    <tr>\n",
       "      <th>8</th>\n",
       "      <td>8</td>\n",
       "      <td>0.84</td>\n",
       "      <td>7.14</td>\n",
       "      <td>0.46</td>\n",
       "    </tr>\n",
       "    <tr>\n",
       "      <th>9</th>\n",
       "      <td>9</td>\n",
       "      <td>0.95</td>\n",
       "      <td>8.63</td>\n",
       "      <td>0.43</td>\n",
       "    </tr>\n",
       "    <tr>\n",
       "      <th>10</th>\n",
       "      <td>10</td>\n",
       "      <td>1.05</td>\n",
       "      <td>8.27</td>\n",
       "      <td>0.48</td>\n",
       "    </tr>\n",
       "    <tr>\n",
       "      <th>11</th>\n",
       "      <td>11</td>\n",
       "      <td>1.16</td>\n",
       "      <td>8.73</td>\n",
       "      <td>0.43</td>\n",
       "    </tr>\n",
       "    <tr>\n",
       "      <th>12</th>\n",
       "      <td>12</td>\n",
       "      <td>1.26</td>\n",
       "      <td>7.65</td>\n",
       "      <td>0.54</td>\n",
       "    </tr>\n",
       "    <tr>\n",
       "      <th>13</th>\n",
       "      <td>13</td>\n",
       "      <td>1.37</td>\n",
       "      <td>8.43</td>\n",
       "      <td>0.54</td>\n",
       "    </tr>\n",
       "    <tr>\n",
       "      <th>14</th>\n",
       "      <td>14</td>\n",
       "      <td>1.47</td>\n",
       "      <td>7.19</td>\n",
       "      <td>0.43</td>\n",
       "    </tr>\n",
       "    <tr>\n",
       "      <th>15</th>\n",
       "      <td>15</td>\n",
       "      <td>1.58</td>\n",
       "      <td>7.59</td>\n",
       "      <td>0.50</td>\n",
       "    </tr>\n",
       "    <tr>\n",
       "      <th>16</th>\n",
       "      <td>16</td>\n",
       "      <td>1.68</td>\n",
       "      <td>7.75</td>\n",
       "      <td>0.49</td>\n",
       "    </tr>\n",
       "    <tr>\n",
       "      <th>17</th>\n",
       "      <td>17</td>\n",
       "      <td>1.79</td>\n",
       "      <td>7.64</td>\n",
       "      <td>0.45</td>\n",
       "    </tr>\n",
       "    <tr>\n",
       "      <th>18</th>\n",
       "      <td>18</td>\n",
       "      <td>1.89</td>\n",
       "      <td>6.11</td>\n",
       "      <td>0.47</td>\n",
       "    </tr>\n",
       "    <tr>\n",
       "      <th>19</th>\n",
       "      <td>19</td>\n",
       "      <td>2.00</td>\n",
       "      <td>4.81</td>\n",
       "      <td>0.56</td>\n",
       "    </tr>\n",
       "  </tbody>\n",
       "</table>\n",
       "</div>"
      ],
      "text/plain": [
       "    Unnamed: 0  time   pos  s_pos\n",
       "0            0  0.00  0.30   0.38\n",
       "1            1  0.11  1.76   0.51\n",
       "2            2  0.21  2.51   0.50\n",
       "3            3  0.32  4.50   0.49\n",
       "4            4  0.42  4.12   0.46\n",
       "5            5  0.53  5.73   0.39\n",
       "6            6  0.63  6.33   0.46\n",
       "7            7  0.74  7.46   0.52\n",
       "8            8  0.84  7.14   0.46\n",
       "9            9  0.95  8.63   0.43\n",
       "10          10  1.05  8.27   0.48\n",
       "11          11  1.16  8.73   0.43\n",
       "12          12  1.26  7.65   0.54\n",
       "13          13  1.37  8.43   0.54\n",
       "14          14  1.47  7.19   0.43\n",
       "15          15  1.58  7.59   0.50\n",
       "16          16  1.68  7.75   0.49\n",
       "17          17  1.79  7.64   0.45\n",
       "18          18  1.89  6.11   0.47\n",
       "19          19  2.00  4.81   0.56"
      ]
     },
     "execution_count": 4,
     "metadata": {},
     "output_type": "execute_result"
    }
   ],
   "source": [
    "d = pd.read_excel(\"data.xls\")\n",
    "d"
   ]
  },
  {
   "cell_type": "code",
   "execution_count": 5,
   "metadata": {},
   "outputs": [
    {
     "data": {
      "image/png": "[encoded data removed]",
      "text/plain": [
       "<Figure size 432x288 with 1 Axes>"
      ]
     },
     "metadata": {
      "needs_background": "light"
     },
     "output_type": "display_data"
    }
   ],
   "source": [
    "# plot data\n",
    "plot.errorbar(d['time'], d['pos'], d['s_pos'], fmt='b.')\n",
    "plot.ylabel(\"height (m)\")\n",
    "plot.xlabel(\"time (s)\")\n",
    "Text(0.5, 0, 'time (s)')\n",
    "plot.show()\n"
   ]
  },
  {
   "cell_type": "code",
   "execution_count": 6,
   "metadata": {},
   "outputs": [],
   "source": [
    "# set up the model\n",
    "def model(x, m, b):\n",
    "    return m * x + b"
   ]
  },
  {
   "cell_type": "code",
   "execution_count": 7,
   "metadata": {},
   "outputs": [],
   "source": [
    "# do the fit\n",
    "init_guess = [1, 1]\n",
    "\n",
    "fit = curve_fit(model, d['time'], d['pos'], sigma=d['s_pos'], p0=init_guess, absolute_sigma=True)"
   ]
  },
  {
   "cell_type": "code",
   "execution_count": 8,
   "metadata": {},
   "outputs": [],
   "source": [
    "# unpack the results\n",
    "ans, cov = fit\n",
    "fit_m, fit_b = ans\n",
    "fit_sm, fit_sb = np.sqrt(np.diag(cov))"
   ]
  },
  {
   "cell_type": "code",
   "execution_count": 9,
   "metadata": {},
   "outputs": [
    {
     "name": "stdout",
     "output_type": "stream",
     "text": [
      "m: 2.81 +/- 0.17\n",
      "b: 3.35 +/- 0.20\n"
     ]
    }
   ],
   "source": [
    "# print the fit results:\n",
    "print(\"m: %.2f +/- %.2f\" % (fit_m, fit_sm))\n",
    "print(\"b: %.2f +/- %.2f\" % (fit_b, fit_sb))"
   ]
  },
  {
   "cell_type": "code",
   "execution_count": 10,
   "metadata": {},
   "outputs": [
    {
     "data": {
      "image/png": "[encoded data removed]",
      "text/plain": [
       "<Figure size 432x288 with 1 Axes>"
      ]
     },
     "metadata": {
      "needs_background": "light"
     },
     "output_type": "display_data"
    },
    {
     "name": "stdout",
     "output_type": "stream",
     "text": [
      "covariance:\n",
      "[[ 0.02987045 -0.02861504]\n",
      " [-0.02861504  0.03832606]]\n"
     ]
    }
   ],
   "source": [
    "# plot the data and fit results\n",
    "plot.errorbar(d['time'], d['pos'], d['s_pos'], fmt='b.', label=\"data\")\n",
    "plot.ylabel(\"height (m)\")\n",
    "plot.xlabel(\"time (s)\")\n",
    "plot.show()\n",
    "print(\"covariance:\")\n",
    "print(cov)"
   ]
  },
  {
   "cell_type": "code",
   "execution_count": 11,
   "metadata": {},
   "outputs": [],
   "source": [
    "t = np.linspace(0, 2)"
   ]
  },
  {
   "cell_type": "code",
   "execution_count": 12,
   "metadata": {},
   "outputs": [
    {
     "data": {
      "image/png": "[encoded data removed]",
      "text/plain": [
       "<Figure size 432x288 with 1 Axes>"
      ]
     },
     "metadata": {
      "needs_background": "light"
     },
     "output_type": "display_data"
    }
   ],
   "source": [
    "plot.plot(t, model(t, fit_m, fit_b), label=\"model\")\n",
    "plot.legend()\n",
    "plot.show()"
   ]
  },
  {
   "cell_type": "code",
   "execution_count": 13,
   "metadata": {},
   "outputs": [
    {
     "data": {
      "text/plain": [
       "Text(0.5, 0.2, 'chi-square: 298.13')"
      ]
     },
     "execution_count": 13,
     "metadata": {},
     "output_type": "execute_result"
    },
    {
     "data": {
      "text/plain": [
       "<Figure size 432x288 with 0 Axes>"
      ]
     },
     "metadata": {},
     "output_type": "display_data"
    }
   ],
   "source": [
    "# compute chi-square\n",
    "chisq = sum((d['pos'] - model(d['time'], fit_m, fit_b)) ** 2 / d['s_pos'] ** 2)\n",
    "plot.figtext(0.5, 0.2, \"chi-square: %.2f\" % chisq, fontweight=\"bold\")"
   ]
  },
  {
   "cell_type": "code",
   "execution_count": 14,
   "metadata": {},
   "outputs": [
    {
     "data": {
      "text/plain": [
       "Text(0.5, 0, 'time (s)')"
      ]
     },
     "execution_count": 14,
     "metadata": {},
     "output_type": "execute_result"
    },
    {
     "data": {
      "image/png": "[encoded data removed]",
      "text/plain": [
       "<Figure size 432x288 with 1 Axes>"
      ]
     },
     "metadata": {
      "needs_background": "light"
     },
     "output_type": "display_data"
    }
   ],
   "source": [
    "# make a residuals plot\n",
    "plot.figure()\n",
    "plot.errorbar(d['time'], d['pos'] - model(d['time'], fit_m, fit_b), d['s_pos'], fmt='b.')\n",
    "plot.hlines(0, d['time'].min(), d['time'].max())\n",
    "plot.ylabel(\"residual (height - fit, m)\")\n",
    "plot.xlabel(\"time (s)\")"
   ]
  }
 ],
 "metadata": {
  "kernelspec": {
   "display_name": "Python 3",
   "language": "python",
   "name": "python3"
  },
  "language_info": {
   "codemirror_mode": {
    "name": "ipython",
    "version": 3
   },
   "file_extension": ".py",
   "mimetype": "text/x-python",
   "name": "python",
   "nbconvert_exporter": "python",
   "pygments_lexer": "ipython3",
   "version": "3.7.6"
  }
 },
 "nbformat": 4,
 "nbformat_minor": 4
}
